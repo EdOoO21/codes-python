{
  "cells": [
    {
      "cell_type": "code",
      "execution_count": 4,
      "metadata": {
        "colab": {
          "base_uri": "https://localhost:8080/"
        },
        "id": "rbAjWqbHMUYq",
        "outputId": "a23049d2-b3fd-4d19-93f7-b5eb8ac5f05c"
      },
      "outputs": [
        {
          "name": "stdout",
          "output_type": "stream",
          "text": [
            "а) Ожидаемый выигрыш Алексея: 90.43 фридрихсдоров\n",
            "б) Ожидаемый выигрыш Полины: 90.50 фридрихсдоров\n"
          ]
        }
      ],
      "source": [
        "import numpy as np\n",
        "\n",
        "def alexey_strategy(simulations, rounds, p):\n",
        "    rewards = 0.0\n",
        "\n",
        "    for _ in range(simulations):\n",
        "        wins, losses = np.zeros(len(p), dtype=int), np.zeros(len(p), dtype=int)\n",
        "        reward = 0\n",
        "        for t in range(rounds):\n",
        "            theta = [np.random.beta(1 + wins[i], 1 + losses[i]) for i in range(len(p))]\n",
        "            chosen_arm = np.argmax(theta)\n",
        "            if np.random.rand() < p[chosen_arm]:\n",
        "                wins[chosen_arm] += 1\n",
        "            else:\n",
        "                losses[chosen_arm] += 1\n",
        "            reward += np.random.rand() < p[np.argmax(theta)]\n",
        "        rewards += reward\n",
        "\n",
        "    return rewards / simulations\n",
        "\n",
        "\n",
        "def polina_strategy(simulations, rounds, p):\n",
        "    rewards = 0.0\n",
        "\n",
        "    for _ in range(simulations):\n",
        "        wins, losses = np.zeros(len(p), dtype=int), np.zeros(len(p), dtype=int)\n",
        "        reward = 0\n",
        "        for t in range(rounds):\n",
        "            exp_values = np.array([(1 + w) / (2 + w + l) for w, l in zip(wins, losses)])\n",
        "            best_arms = np.where(exp_values == np.max(exp_values))[0]\n",
        "            if len(best_arms) == 1:\n",
        "                chosen_arm = best_arms[0]\n",
        "            else:\n",
        "                chosen_arm = np.random.choice(best_arms)\n",
        "            if np.random.rand() < p[chosen_arm]:\n",
        "                wins[chosen_arm] += 1\n",
        "            else:\n",
        "                losses[chosen_arm] += 1\n",
        "            reward += np.random.rand() < p[chosen_arm]\n",
        "        rewards += reward\n",
        "\n",
        "    return rewards / simulations\n",
        "\n",
        "\n",
        "simulations, rounds, p = 10000, 200, [0.3, 0.4, 0.5]\n",
        "\n",
        "alexey_result, polina_result = alexey_strategy(simulations, rounds, p), polina_strategy(simulations, rounds, p)\n",
        "\n",
        "print(f\"а) Ожидаемый выигрыш Алексея: {alexey_result:.2f} фридрихсдоров\")\n",
        "print(f\"б) Ожидаемый выигрыш Полины: {polina_result:.2f} фридрихсдоров\")"
      ]
    }
  ],
  "metadata": {
    "colab": {
      "provenance": []
    },
    "kernelspec": {
      "display_name": ".venv",
      "language": "python",
      "name": "python3"
    },
    "language_info": {
      "codemirror_mode": {
        "name": "ipython",
        "version": 3
      },
      "file_extension": ".py",
      "mimetype": "text/x-python",
      "name": "python",
      "nbconvert_exporter": "python",
      "pygments_lexer": "ipython3",
      "version": "3.12.3"
    }
  },
  "nbformat": 4,
  "nbformat_minor": 0
}
