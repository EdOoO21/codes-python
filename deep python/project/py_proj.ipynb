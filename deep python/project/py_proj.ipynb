{
 "cells": [
  {
   "cell_type": "code",
   "execution_count": 1,
   "metadata": {
    "colab": {
     "base_uri": "https://localhost:8080/"
    },
    "id": "AfKYuqMImYzX",
    "outputId": "a25255d5-41a0-4692-c89d-5c31a0fe37e8"
   },
   "outputs": [
    {
     "name": "stdout",
     "output_type": "stream",
     "text": [
      "Defaulting to user installation because normal site-packages is not writeable\n",
      "Requirement already satisfied: requests in /home/edo/.local/lib/python3.10/site-packages (2.32.3)\n",
      "Requirement already satisfied: charset-normalizer<4,>=2 in /home/edo/.local/lib/python3.10/site-packages (from requests) (3.3.2)\n",
      "Requirement already satisfied: idna<4,>=2.5 in /home/edo/.local/lib/python3.10/site-packages (from requests) (3.10)\n",
      "Requirement already satisfied: urllib3<3,>=1.21.1 in /usr/lib/python3/dist-packages (from requests) (1.26.5)\n",
      "Requirement already satisfied: certifi>=2017.4.17 in /home/edo/.local/lib/python3.10/site-packages (from requests) (2024.8.30)\n"
     ]
    }
   ],
   "source": [
    "!pip install requests"
   ]
  },
  {
   "cell_type": "code",
   "execution_count": 10,
   "metadata": {
    "id": "77m2rfuTMd5N"
   },
   "outputs": [
    {
     "name": "stdout",
     "output_type": "stream",
     "text": [
      "Первый запрос выполнен успешно, JSON: {'result': 'RID', 'RID': 36810595764, 'timestamp': '07.12.2024 15:23:55.748'}\n",
      "Второй запрос выполнен успешно, JSON: {'result': 'OK', 'tp': [{'from': 'МОСКВА', 'fromCode': 2000000, 'where': 'КАЗАНЬ', 'whereCode': 2060615, 'date': '24.12.2024', 'noSeats': False, 'defShowTime': 'local', 'state': 'Trains', 'list': [{'number': '150Х', 'number2': '150Х', 'type': 0, 'typeEx': 0, 'depth': 89, 'new': False, 'elReg': True, 'deferredPayment': False, 'varPrice': False, 'code0': 2000003, 'code1': 2060500, 'bEntire': True, 'trainName': '', 'brand': '', 'carrier': 'ФПК', 'route0': 'МОСКВА КАЗ', 'route1': 'КАЗАНЬ ПАС', 'routeCode0': 2000003, 'routeCode1': 2060500, 'trDate0': '24.12.2024', 'trTime0': '00:20', 'station0': 'МОСКВА КАЗАНСКАЯ (КАЗАНСКИЙ ВОКЗАЛ)', 'station1': 'КАЗАНЬ ПАСС', 'date0': '24.12.2024', 'time0': '00:20', 'date1': '24.12.2024', 'time1': '13:27', 'timeInWay': '13:07', 'flMsk': 3, 'train_id': 0, 'cars': [{'carDataType': 1, 'itype': 6, 'type': 'Люкс', 'typeLoc': 'СВ', 'freeSeats': 27, 'pt': 2137, 'tariff': 7140, 'servCls': '1Ф'}, {'carDataType': 1, 'itype': 3, 'type': 'Сид', 'typeLoc': 'Сидячий', 'freeSeats': 219, 'pt': 379, 'tariff': 1266, 'servCls': '2С'}, {'carDataType': 1, 'itype': 4, 'type': 'Купе', 'typeLoc': 'Купе', 'freeSeats': 98, 'pt': 668, 'tariff': 2232, 'servCls': '2Л'}, {'carDataType': 1, 'itype': 1, 'type': 'Плац', 'typeLoc': 'Плацкартный', 'freeSeats': 38, 'pt': 690, 'tariff': 2306, 'servCls': '3Б'}], 'test': '[Люкс, Купе, Сид, Плац]', 'testSize': 4, 'carTypes': [{'type': 'Люкс', 'itype': 6}, {'type': 'Купе', 'itype': 4}, {'type': 'Сид', 'itype': 3}, {'type': 'Плац', 'itype': 1}], 'carNumeration': 'FromHead', 'nonRefundable': True, 'addCompLuggage': False, 'addHandLuggage': True}, {'number': '056М', 'number2': '056М', 'type': 0, 'typeEx': 0, 'depth': 89, 'new': False, 'elReg': True, 'deferredPayment': False, 'varPrice': False, 'code0': 2000003, 'code1': 2060961, 'bEntire': True, 'trainName': '', 'brand': '', 'carrier': 'ФПК', 'route0': 'МОСКВА КАЗ', 'route1': 'ЕКАТЕРИНБ П', 'routeCode0': 2000003, 'routeCode1': 2030000, 'trDate0': '24.12.2024', 'trTime0': '13:15', 'station0': 'МОСКВА КАЗАНСКАЯ (КАЗАНСКИЙ ВОКЗАЛ)', 'station1': 'КАЗАНЬ-2 (ВОССТАНИЕ ПАСС, СЕВЕРНЫЙ ВОКЗАЛ)', 'date0': '24.12.2024', 'time0': '13:15', 'date1': '25.12.2024', 'time1': '00:27', 'timeInWay': '11:12', 'flMsk': 3, 'train_id': 0, 'cars': [{'carDataType': 1, 'itype': 4, 'type': 'Купе', 'typeLoc': 'Купе', 'freeSeats': 28, 'pt': 990, 'tariff': 3309, 'servCls': '2К'}, {'carDataType': 1, 'itype': 4, 'type': 'Купе', 'typeLoc': 'Купе', 'freeSeats': 4, 'pt': 990, 'tariff': 2641, 'servCls': '2К', 'disabledPerson': True}], 'test': '[Люкс, Купе, Плац]', 'testSize': 3, 'carTypes': [{'type': 'Люкс', 'itype': 6}, {'type': 'Купе', 'itype': 4}, {'type': 'Плац', 'itype': 1}], 'carNumeration': 'FromTail', 'disabledType': True, 'nonRefundable': True, 'addFood': True, 'addCompLuggageNum': 8, 'addCompLuggage': True, 'addHandLuggage': True}, {'number': '112М', 'number2': '112М', 'type': 0, 'typeEx': 0, 'depth': 89, 'new': False, 'elReg': True, 'deferredPayment': False, 'varPrice': False, 'code0': 2000003, 'code1': 2060961, 'bEntire': True, 'trainName': '', 'brand': '', 'carrier': 'ФПК', 'route0': 'МОСКВА КАЗ', 'route1': 'КРУГ ПОЛЕ', 'routeCode0': 2000003, 'routeCode1': 2024715, 'trDate0': '24.12.2024', 'trTime0': '16:15', 'station0': 'МОСКВА КАЗАНСКАЯ (КАЗАНСКИЙ ВОКЗАЛ)', 'station1': 'КАЗАНЬ-2 (ВОССТАНИЕ ПАСС, СЕВЕРНЫЙ ВОКЗАЛ)', 'date0': '24.12.2024', 'time0': '16:15', 'date1': '25.12.2024', 'time1': '04:50', 'timeInWay': '12:35', 'flMsk': 3, 'train_id': 0, 'cars': [{'carDataType': 1, 'itype': 4, 'type': 'Купе', 'typeLoc': 'Купе', 'freeSeats': 81, 'pt': 823, 'tariff': 2751, 'servCls': '2К'}, {'carDataType': 1, 'itype': 4, 'type': 'Купе', 'typeLoc': 'Купе', 'freeSeats': 4, 'pt': 823, 'tariff': 2484, 'servCls': '2У', 'disabledPerson': True}, {'carDataType': 1, 'itype': 1, 'type': 'Плац', 'typeLoc': 'Плацкартный', 'freeSeats': 36, 'pt': 690, 'tariff': 2306, 'servCls': '3Б'}], 'test': '[Купе, Плац]', 'testSize': 2, 'carTypes': [{'type': 'Купе', 'itype': 4}, {'type': 'Плац', 'itype': 1}], 'carNumeration': 'FromTail', 'disabledType': True, 'nonRefundable': True, 'addCompLuggageNum': 16, 'addCompLuggage': True, 'addHandLuggage': True}, {'number': '096Н', 'number2': '096Н', 'type': 0, 'typeEx': 0, 'depth': 89, 'new': False, 'elReg': True, 'deferredPayment': False, 'varPrice': False, 'code0': 2000003, 'code1': 2060961, 'bEntire': True, 'trainName': '', 'brand': '', 'carrier': 'ФПК', 'route0': 'МОСКВА КАЗ', 'route1': 'БАРНАУЛ', 'routeCode0': 2000003, 'routeCode1': 2044800, 'trDate0': '24.12.2024', 'trTime0': '16:23', 'station0': 'МОСКВА КАЗАНСКАЯ (КАЗАНСКИЙ ВОКЗАЛ)', 'station1': 'КАЗАНЬ-2 (ВОССТАНИЕ ПАСС, СЕВЕРНЫЙ ВОКЗАЛ)', 'date0': '24.12.2024', 'time0': '16:23', 'date1': '25.12.2024', 'time1': '05:02', 'timeInWay': '12:39', 'flMsk': 3, 'train_id': 0, 'cars': [{'carDataType': 1, 'itype': 4, 'type': 'Купе', 'typeLoc': 'Купе', 'freeSeats': 45, 'pt': 933, 'tariff': 3118, 'servCls': '2К'}, {'carDataType': 1, 'itype': 1, 'type': 'Плац', 'typeLoc': 'Плацкартный', 'freeSeats': 58, 'pt': 690, 'tariff': 2306, 'servCls': '3Б'}], 'test': '[Купе, Плац]', 'testSize': 2, 'carTypes': [{'type': 'Купе', 'itype': 4}, {'type': 'Плац', 'itype': 1}], 'carNumeration': 'FromTail', 'nonRefundable': True, 'addCompLuggageNum': 8, 'addCompLuggage': True, 'addHandLuggage': True}, {'number': '082И', 'number2': '082И', 'type': 0, 'typeEx': 0, 'depth': 89, 'new': False, 'elReg': True, 'deferredPayment': False, 'varPrice': False, 'code0': 2000003, 'code1': 2060961, 'bEntire': True, 'trainName': '', 'brand': '', 'carrier': 'ФПК', 'route0': 'МОСКВА КАЗ', 'route1': 'УЛАН УДЭ П', 'routeCode0': 2000003, 'routeCode1': 2054785, 'trDate0': '24.12.2024', 'trTime0': '16:38', 'station0': 'МОСКВА КАЗАНСКАЯ (КАЗАНСКИЙ ВОКЗАЛ)', 'station1': 'КАЗАНЬ-2 (ВОССТАНИЕ ПАСС, СЕВЕРНЫЙ ВОКЗАЛ)', 'date0': '24.12.2024', 'time0': '16:38', 'date1': '25.12.2024', 'time1': '05:13', 'timeInWay': '12:35', 'flMsk': 3, 'train_id': 0, 'cars': [{'carDataType': 1, 'itype': 4, 'type': 'Купе', 'typeLoc': 'Купе', 'freeSeats': 49, 'pt': 933, 'tariff': 3118, 'servCls': '2К'}, {'carDataType': 1, 'itype': 4, 'type': 'Купе', 'typeLoc': 'Купе', 'freeSeats': 4, 'pt': 933, 'tariff': 2812, 'servCls': '2К', 'disabledPerson': True}, {'carDataType': 1, 'itype': 1, 'type': 'Плац', 'typeLoc': 'Плацкартный', 'freeSeats': 82, 'pt': 690, 'tariff': 2306, 'servCls': '3Б'}], 'test': '[Купе, Плац]', 'testSize': 2, 'carTypes': [{'type': 'Купе', 'itype': 4}, {'type': 'Плац', 'itype': 1}], 'carNumeration': 'FromTail', 'disabledType': True, 'nonRefundable': True, 'addFood': True, 'addGoods': True, 'addCompLuggageNum': 16, 'addCompLuggage': True, 'addHandLuggage': True}, {'number': '026Г', 'number2': '026Г', 'type': 0, 'typeEx': 0, 'depth': 89, 'new': False, 'elReg': True, 'deferredPayment': False, 'varPrice': False, 'code0': 2000003, 'code1': 2060961, 'bEntire': True, 'trainName': '', 'bFirm': True, 'brand': 'Италмас (двухэтажный)', 'carrier': 'ФПК', 'route0': 'МОСКВА КАЗ', 'route1': 'ИЖЕВСК', 'routeCode0': 2000003, 'routeCode1': 2060150, 'trDate0': '24.12.2024', 'trTime0': '17:40', 'station0': 'МОСКВА КАЗАНСКАЯ (КАЗАНСКИЙ ВОКЗАЛ)', 'station1': 'КАЗАНЬ-2 (ВОССТАНИЕ ПАСС, СЕВЕРНЫЙ ВОКЗАЛ)', 'date0': '24.12.2024', 'time0': '17:40', 'date1': '25.12.2024', 'time1': '05:25', 'timeInWay': '11:45', 'flMsk': 3, 'train_id': 0, 'cars': [{'carDataType': 1, 'itype': 6, 'type': 'Люкс', 'typeLoc': 'СВ', 'freeSeats': 47, 'pt': 3160, 'tariff': 10555, 'servCls': '1Т'}, {'carDataType': 1, 'itype': 4, 'type': 'Купе', 'typeLoc': 'Купе', 'freeSeats': 108, 'pt': 1030, 'tariff': 3441, 'servCls': '2Ф'}], 'test': '[Люкс, Купе, Сид]', 'testSize': 3, 'carTypes': [{'type': 'Люкс', 'itype': 6}, {'type': 'Купе', 'itype': 4}, {'type': 'Сид', 'itype': 3}], 'carNumeration': 'FromHead', 'nonRefundable': True, 'addFood': True, 'addCompLuggageNum': 7, 'addCompLuggage': True, 'addHandLuggage': True}, {'number': '148М', 'number2': '148М', 'type': 0, 'typeEx': 0, 'depth': 89, 'new': False, 'elReg': True, 'deferredPayment': False, 'varPrice': False, 'code0': 2000003, 'code1': 2060500, 'bEntire': True, 'trainName': '', 'brand': '', 'carrier': 'ФПК', 'route0': 'МОСКВА КАЗ', 'route1': 'КАЗАНЬ ПАС', 'routeCode0': 2000003, 'routeCode1': 2060500, 'trDate0': '24.12.2024', 'trTime0': '19:16', 'station0': 'МОСКВА КАЗАНСКАЯ (КАЗАНСКИЙ ВОКЗАЛ)', 'station1': 'КАЗАНЬ ПАСС', 'date0': '24.12.2024', 'time0': '19:16', 'date1': '25.12.2024', 'time1': '07:50', 'timeInWay': '12:34', 'flMsk': 3, 'train_id': 0, 'cars': [{'carDataType': 1, 'itype': 6, 'type': 'Люкс', 'typeLoc': 'СВ', 'freeSeats': 5, 'pt': 2584, 'tariff': 8631, 'servCls': '1Ф'}, {'carDataType': 1, 'itype': 3, 'type': 'Сид', 'typeLoc': 'Сидячий', 'freeSeats': 134, 'pt': 379, 'tariff': 1266, 'servCls': '2С'}, {'carDataType': 1, 'itype': 4, 'type': 'Купе', 'typeLoc': 'Купе', 'freeSeats': 31, 'pt': 1010, 'tariff': 3375, 'servCls': '2К'}, {'carDataType': 1, 'itype': 4, 'type': 'Купе', 'typeLoc': 'Купе', 'freeSeats': 2, 'pt': 1010, 'tariff': 2484, 'servCls': '2К', 'disabledPerson': True}, {'carDataType': 1, 'itype': 1, 'type': 'Плац', 'typeLoc': 'Плацкартный', 'freeSeats': 55, 'pt': 690, 'tariff': 2306, 'servCls': '3Б'}], 'test': '[Люкс, Купе, Сид, Плац]', 'testSize': 4, 'carTypes': [{'type': 'Люкс', 'itype': 6}, {'type': 'Купе', 'itype': 4}, {'type': 'Сид', 'itype': 3}, {'type': 'Плац', 'itype': 1}], 'carNumeration': 'FromHead', 'disabledType': True, 'nonRefundable': True, 'addCompLuggageNum': 8, 'addCompLuggage': True, 'addHandLuggage': True}, {'number': '002Й', 'number2': '002Й', 'type': 0, 'typeEx': 0, 'depth': 89, 'new': False, 'elReg': True, 'deferredPayment': False, 'varPrice': False, 'code0': 2000003, 'code1': 2060500, 'bEntire': True, 'trainName': '', 'bFirm': True, 'brand': 'Премиум', 'carrier': 'ФПК', 'route0': 'МОСКВА КАЗ', 'route1': 'КАЗАНЬ ПАС', 'routeCode0': 2000003, 'routeCode1': 2060500, 'trDate0': '24.12.2024', 'trTime0': '20:40', 'station0': 'МОСКВА КАЗАНСКАЯ (КАЗАНСКИЙ ВОКЗАЛ)', 'station1': 'КАЗАНЬ ПАСС', 'date0': '24.12.2024', 'time0': '20:40', 'date1': '25.12.2024', 'time1': '08:00', 'timeInWay': '11:20', 'flMsk': 3, 'train_id': 0, 'cars': [{'carDataType': 1, 'itype': 6, 'type': 'Люкс', 'typeLoc': 'СВ', 'freeSeats': 21, 'pt': 3777, 'tariff': 12616, 'servCls': '1Т'}, {'carDataType': 1, 'itype': 4, 'type': 'Купе', 'typeLoc': 'Купе', 'freeSeats': 274, 'pt': 1060, 'tariff': 3543, 'servCls': '2Т'}], 'test': '[Люкс, Мягкий, Купе]', 'testSize': 3, 'carTypes': [{'type': 'Люкс', 'itype': 6}, {'type': 'Мягкий', 'itype': 5}, {'type': 'Купе', 'itype': 4}], 'carNumeration': 'FromTail', 'nonRefundable': True, 'addFood': True, 'addGoods': True, 'addCompLuggageNum': 8, 'addCompLuggage': True, 'addHandLuggage': True}, {'number': '024М', 'number2': '024М', 'type': 0, 'typeEx': 0, 'depth': 89, 'new': False, 'elReg': True, 'deferredPayment': False, 'varPrice': False, 'code0': 2000003, 'code1': 2060500, 'bEntire': True, 'trainName': '', 'bFirm': True, 'brand': 'Двухэтажный', 'carrier': 'ФПК', 'route0': 'МОСКВА КАЗ', 'route1': 'КАЗАНЬ ПАС', 'routeCode0': 2000003, 'routeCode1': 2060500, 'trDate0': '24.12.2024', 'trTime0': '23:10', 'station0': 'МОСКВА КАЗАНСКАЯ (КАЗАНСКИЙ ВОКЗАЛ)', 'station1': 'КАЗАНЬ ПАСС', 'date0': '24.12.2024', 'time0': '23:10', 'date1': '25.12.2024', 'time1': '10:50', 'timeInWay': '11:40', 'flMsk': 3, 'train_id': 0, 'cars': [{'carDataType': 1, 'itype': 6, 'type': 'Люкс', 'typeLoc': 'СВ', 'freeSeats': 5, 'pt': 3610, 'tariff': 12060, 'servCls': '1Э'}, {'carDataType': 1, 'itype': 4, 'type': 'Купе', 'typeLoc': 'Купе', 'freeSeats': 278, 'pt': 815, 'tariff': 2725, 'servCls': '2Ф'}], 'test': '[Люкс, Купе]', 'testSize': 2, 'carTypes': [{'type': 'Люкс', 'itype': 6}, {'type': 'Купе', 'itype': 4}], 'carNumeration': 'FromTail', 'nonRefundable': True, 'addFood': True, 'addGoods': True, 'addCompLuggageNum': 8, 'addCompLuggage': True, 'addHandLuggage': True}], 'msgList': []}], 'TransferSearchMode': 'SEMI_AUTO', 'flFPKRoundBonus': False, 'AutoTransferMode': False, 'discounts': {}, 'timestamp': '07.12.2024 15:23:56.983'}\n",
      "({'result': 'OK', 'tp': [{'from': 'МОСКВА', 'fromCode': 2000000, 'where': 'КАЗАНЬ', 'whereCode': 2060615, 'date': '24.12.2024', 'noSeats': False, 'defShowTime': 'local', 'state': 'Trains', 'list': [{'number': '150Х', 'number2': '150Х', 'type': 0, 'typeEx': 0, 'depth': 89, 'new': False, 'elReg': True, 'deferredPayment': False, 'varPrice': False, 'code0': 2000003, 'code1': 2060500, 'bEntire': True, 'trainName': '', 'brand': '', 'carrier': 'ФПК', 'route0': 'МОСКВА КАЗ', 'route1': 'КАЗАНЬ ПАС', 'routeCode0': 2000003, 'routeCode1': 2060500, 'trDate0': '24.12.2024', 'trTime0': '00:20', 'station0': 'МОСКВА КАЗАНСКАЯ (КАЗАНСКИЙ ВОКЗАЛ)', 'station1': 'КАЗАНЬ ПАСС', 'date0': '24.12.2024', 'time0': '00:20', 'date1': '24.12.2024', 'time1': '13:27', 'timeInWay': '13:07', 'flMsk': 3, 'train_id': 0, 'cars': [{'carDataType': 1, 'itype': 6, 'type': 'Люкс', 'typeLoc': 'СВ', 'freeSeats': 27, 'pt': 2137, 'tariff': 7140, 'servCls': '1Ф'}, {'carDataType': 1, 'itype': 3, 'type': 'Сид', 'typeLoc': 'Сидячий', 'freeSeats': 219, 'pt': 379, 'tariff': 1266, 'servCls': '2С'}, {'carDataType': 1, 'itype': 4, 'type': 'Купе', 'typeLoc': 'Купе', 'freeSeats': 98, 'pt': 668, 'tariff': 2232, 'servCls': '2Л'}, {'carDataType': 1, 'itype': 1, 'type': 'Плац', 'typeLoc': 'Плацкартный', 'freeSeats': 38, 'pt': 690, 'tariff': 2306, 'servCls': '3Б'}], 'test': '[Люкс, Купе, Сид, Плац]', 'testSize': 4, 'carTypes': [{'type': 'Люкс', 'itype': 6}, {'type': 'Купе', 'itype': 4}, {'type': 'Сид', 'itype': 3}, {'type': 'Плац', 'itype': 1}], 'carNumeration': 'FromHead', 'nonRefundable': True, 'addCompLuggage': False, 'addHandLuggage': True}, {'number': '056М', 'number2': '056М', 'type': 0, 'typeEx': 0, 'depth': 89, 'new': False, 'elReg': True, 'deferredPayment': False, 'varPrice': False, 'code0': 2000003, 'code1': 2060961, 'bEntire': True, 'trainName': '', 'brand': '', 'carrier': 'ФПК', 'route0': 'МОСКВА КАЗ', 'route1': 'ЕКАТЕРИНБ П', 'routeCode0': 2000003, 'routeCode1': 2030000, 'trDate0': '24.12.2024', 'trTime0': '13:15', 'station0': 'МОСКВА КАЗАНСКАЯ (КАЗАНСКИЙ ВОКЗАЛ)', 'station1': 'КАЗАНЬ-2 (ВОССТАНИЕ ПАСС, СЕВЕРНЫЙ ВОКЗАЛ)', 'date0': '24.12.2024', 'time0': '13:15', 'date1': '25.12.2024', 'time1': '00:27', 'timeInWay': '11:12', 'flMsk': 3, 'train_id': 0, 'cars': [{'carDataType': 1, 'itype': 4, 'type': 'Купе', 'typeLoc': 'Купе', 'freeSeats': 28, 'pt': 990, 'tariff': 3309, 'servCls': '2К'}, {'carDataType': 1, 'itype': 4, 'type': 'Купе', 'typeLoc': 'Купе', 'freeSeats': 4, 'pt': 990, 'tariff': 2641, 'servCls': '2К', 'disabledPerson': True}], 'test': '[Люкс, Купе, Плац]', 'testSize': 3, 'carTypes': [{'type': 'Люкс', 'itype': 6}, {'type': 'Купе', 'itype': 4}, {'type': 'Плац', 'itype': 1}], 'carNumeration': 'FromTail', 'disabledType': True, 'nonRefundable': True, 'addFood': True, 'addCompLuggageNum': 8, 'addCompLuggage': True, 'addHandLuggage': True}, {'number': '112М', 'number2': '112М', 'type': 0, 'typeEx': 0, 'depth': 89, 'new': False, 'elReg': True, 'deferredPayment': False, 'varPrice': False, 'code0': 2000003, 'code1': 2060961, 'bEntire': True, 'trainName': '', 'brand': '', 'carrier': 'ФПК', 'route0': 'МОСКВА КАЗ', 'route1': 'КРУГ ПОЛЕ', 'routeCode0': 2000003, 'routeCode1': 2024715, 'trDate0': '24.12.2024', 'trTime0': '16:15', 'station0': 'МОСКВА КАЗАНСКАЯ (КАЗАНСКИЙ ВОКЗАЛ)', 'station1': 'КАЗАНЬ-2 (ВОССТАНИЕ ПАСС, СЕВЕРНЫЙ ВОКЗАЛ)', 'date0': '24.12.2024', 'time0': '16:15', 'date1': '25.12.2024', 'time1': '04:50', 'timeInWay': '12:35', 'flMsk': 3, 'train_id': 0, 'cars': [{'carDataType': 1, 'itype': 4, 'type': 'Купе', 'typeLoc': 'Купе', 'freeSeats': 81, 'pt': 823, 'tariff': 2751, 'servCls': '2К'}, {'carDataType': 1, 'itype': 4, 'type': 'Купе', 'typeLoc': 'Купе', 'freeSeats': 4, 'pt': 823, 'tariff': 2484, 'servCls': '2У', 'disabledPerson': True}, {'carDataType': 1, 'itype': 1, 'type': 'Плац', 'typeLoc': 'Плацкартный', 'freeSeats': 36, 'pt': 690, 'tariff': 2306, 'servCls': '3Б'}], 'test': '[Купе, Плац]', 'testSize': 2, 'carTypes': [{'type': 'Купе', 'itype': 4}, {'type': 'Плац', 'itype': 1}], 'carNumeration': 'FromTail', 'disabledType': True, 'nonRefundable': True, 'addCompLuggageNum': 16, 'addCompLuggage': True, 'addHandLuggage': True}, {'number': '096Н', 'number2': '096Н', 'type': 0, 'typeEx': 0, 'depth': 89, 'new': False, 'elReg': True, 'deferredPayment': False, 'varPrice': False, 'code0': 2000003, 'code1': 2060961, 'bEntire': True, 'trainName': '', 'brand': '', 'carrier': 'ФПК', 'route0': 'МОСКВА КАЗ', 'route1': 'БАРНАУЛ', 'routeCode0': 2000003, 'routeCode1': 2044800, 'trDate0': '24.12.2024', 'trTime0': '16:23', 'station0': 'МОСКВА КАЗАНСКАЯ (КАЗАНСКИЙ ВОКЗАЛ)', 'station1': 'КАЗАНЬ-2 (ВОССТАНИЕ ПАСС, СЕВЕРНЫЙ ВОКЗАЛ)', 'date0': '24.12.2024', 'time0': '16:23', 'date1': '25.12.2024', 'time1': '05:02', 'timeInWay': '12:39', 'flMsk': 3, 'train_id': 0, 'cars': [{'carDataType': 1, 'itype': 4, 'type': 'Купе', 'typeLoc': 'Купе', 'freeSeats': 45, 'pt': 933, 'tariff': 3118, 'servCls': '2К'}, {'carDataType': 1, 'itype': 1, 'type': 'Плац', 'typeLoc': 'Плацкартный', 'freeSeats': 58, 'pt': 690, 'tariff': 2306, 'servCls': '3Б'}], 'test': '[Купе, Плац]', 'testSize': 2, 'carTypes': [{'type': 'Купе', 'itype': 4}, {'type': 'Плац', 'itype': 1}], 'carNumeration': 'FromTail', 'nonRefundable': True, 'addCompLuggageNum': 8, 'addCompLuggage': True, 'addHandLuggage': True}, {'number': '082И', 'number2': '082И', 'type': 0, 'typeEx': 0, 'depth': 89, 'new': False, 'elReg': True, 'deferredPayment': False, 'varPrice': False, 'code0': 2000003, 'code1': 2060961, 'bEntire': True, 'trainName': '', 'brand': '', 'carrier': 'ФПК', 'route0': 'МОСКВА КАЗ', 'route1': 'УЛАН УДЭ П', 'routeCode0': 2000003, 'routeCode1': 2054785, 'trDate0': '24.12.2024', 'trTime0': '16:38', 'station0': 'МОСКВА КАЗАНСКАЯ (КАЗАНСКИЙ ВОКЗАЛ)', 'station1': 'КАЗАНЬ-2 (ВОССТАНИЕ ПАСС, СЕВЕРНЫЙ ВОКЗАЛ)', 'date0': '24.12.2024', 'time0': '16:38', 'date1': '25.12.2024', 'time1': '05:13', 'timeInWay': '12:35', 'flMsk': 3, 'train_id': 0, 'cars': [{'carDataType': 1, 'itype': 4, 'type': 'Купе', 'typeLoc': 'Купе', 'freeSeats': 49, 'pt': 933, 'tariff': 3118, 'servCls': '2К'}, {'carDataType': 1, 'itype': 4, 'type': 'Купе', 'typeLoc': 'Купе', 'freeSeats': 4, 'pt': 933, 'tariff': 2812, 'servCls': '2К', 'disabledPerson': True}, {'carDataType': 1, 'itype': 1, 'type': 'Плац', 'typeLoc': 'Плацкартный', 'freeSeats': 82, 'pt': 690, 'tariff': 2306, 'servCls': '3Б'}], 'test': '[Купе, Плац]', 'testSize': 2, 'carTypes': [{'type': 'Купе', 'itype': 4}, {'type': 'Плац', 'itype': 1}], 'carNumeration': 'FromTail', 'disabledType': True, 'nonRefundable': True, 'addFood': True, 'addGoods': True, 'addCompLuggageNum': 16, 'addCompLuggage': True, 'addHandLuggage': True}, {'number': '026Г', 'number2': '026Г', 'type': 0, 'typeEx': 0, 'depth': 89, 'new': False, 'elReg': True, 'deferredPayment': False, 'varPrice': False, 'code0': 2000003, 'code1': 2060961, 'bEntire': True, 'trainName': '', 'bFirm': True, 'brand': 'Италмас (двухэтажный)', 'carrier': 'ФПК', 'route0': 'МОСКВА КАЗ', 'route1': 'ИЖЕВСК', 'routeCode0': 2000003, 'routeCode1': 2060150, 'trDate0': '24.12.2024', 'trTime0': '17:40', 'station0': 'МОСКВА КАЗАНСКАЯ (КАЗАНСКИЙ ВОКЗАЛ)', 'station1': 'КАЗАНЬ-2 (ВОССТАНИЕ ПАСС, СЕВЕРНЫЙ ВОКЗАЛ)', 'date0': '24.12.2024', 'time0': '17:40', 'date1': '25.12.2024', 'time1': '05:25', 'timeInWay': '11:45', 'flMsk': 3, 'train_id': 0, 'cars': [{'carDataType': 1, 'itype': 6, 'type': 'Люкс', 'typeLoc': 'СВ', 'freeSeats': 47, 'pt': 3160, 'tariff': 10555, 'servCls': '1Т'}, {'carDataType': 1, 'itype': 4, 'type': 'Купе', 'typeLoc': 'Купе', 'freeSeats': 108, 'pt': 1030, 'tariff': 3441, 'servCls': '2Ф'}], 'test': '[Люкс, Купе, Сид]', 'testSize': 3, 'carTypes': [{'type': 'Люкс', 'itype': 6}, {'type': 'Купе', 'itype': 4}, {'type': 'Сид', 'itype': 3}], 'carNumeration': 'FromHead', 'nonRefundable': True, 'addFood': True, 'addCompLuggageNum': 7, 'addCompLuggage': True, 'addHandLuggage': True}, {'number': '148М', 'number2': '148М', 'type': 0, 'typeEx': 0, 'depth': 89, 'new': False, 'elReg': True, 'deferredPayment': False, 'varPrice': False, 'code0': 2000003, 'code1': 2060500, 'bEntire': True, 'trainName': '', 'brand': '', 'carrier': 'ФПК', 'route0': 'МОСКВА КАЗ', 'route1': 'КАЗАНЬ ПАС', 'routeCode0': 2000003, 'routeCode1': 2060500, 'trDate0': '24.12.2024', 'trTime0': '19:16', 'station0': 'МОСКВА КАЗАНСКАЯ (КАЗАНСКИЙ ВОКЗАЛ)', 'station1': 'КАЗАНЬ ПАСС', 'date0': '24.12.2024', 'time0': '19:16', 'date1': '25.12.2024', 'time1': '07:50', 'timeInWay': '12:34', 'flMsk': 3, 'train_id': 0, 'cars': [{'carDataType': 1, 'itype': 6, 'type': 'Люкс', 'typeLoc': 'СВ', 'freeSeats': 5, 'pt': 2584, 'tariff': 8631, 'servCls': '1Ф'}, {'carDataType': 1, 'itype': 3, 'type': 'Сид', 'typeLoc': 'Сидячий', 'freeSeats': 134, 'pt': 379, 'tariff': 1266, 'servCls': '2С'}, {'carDataType': 1, 'itype': 4, 'type': 'Купе', 'typeLoc': 'Купе', 'freeSeats': 31, 'pt': 1010, 'tariff': 3375, 'servCls': '2К'}, {'carDataType': 1, 'itype': 4, 'type': 'Купе', 'typeLoc': 'Купе', 'freeSeats': 2, 'pt': 1010, 'tariff': 2484, 'servCls': '2К', 'disabledPerson': True}, {'carDataType': 1, 'itype': 1, 'type': 'Плац', 'typeLoc': 'Плацкартный', 'freeSeats': 55, 'pt': 690, 'tariff': 2306, 'servCls': '3Б'}], 'test': '[Люкс, Купе, Сид, Плац]', 'testSize': 4, 'carTypes': [{'type': 'Люкс', 'itype': 6}, {'type': 'Купе', 'itype': 4}, {'type': 'Сид', 'itype': 3}, {'type': 'Плац', 'itype': 1}], 'carNumeration': 'FromHead', 'disabledType': True, 'nonRefundable': True, 'addCompLuggageNum': 8, 'addCompLuggage': True, 'addHandLuggage': True}, {'number': '002Й', 'number2': '002Й', 'type': 0, 'typeEx': 0, 'depth': 89, 'new': False, 'elReg': True, 'deferredPayment': False, 'varPrice': False, 'code0': 2000003, 'code1': 2060500, 'bEntire': True, 'trainName': '', 'bFirm': True, 'brand': 'Премиум', 'carrier': 'ФПК', 'route0': 'МОСКВА КАЗ', 'route1': 'КАЗАНЬ ПАС', 'routeCode0': 2000003, 'routeCode1': 2060500, 'trDate0': '24.12.2024', 'trTime0': '20:40', 'station0': 'МОСКВА КАЗАНСКАЯ (КАЗАНСКИЙ ВОКЗАЛ)', 'station1': 'КАЗАНЬ ПАСС', 'date0': '24.12.2024', 'time0': '20:40', 'date1': '25.12.2024', 'time1': '08:00', 'timeInWay': '11:20', 'flMsk': 3, 'train_id': 0, 'cars': [{'carDataType': 1, 'itype': 6, 'type': 'Люкс', 'typeLoc': 'СВ', 'freeSeats': 21, 'pt': 3777, 'tariff': 12616, 'servCls': '1Т'}, {'carDataType': 1, 'itype': 4, 'type': 'Купе', 'typeLoc': 'Купе', 'freeSeats': 274, 'pt': 1060, 'tariff': 3543, 'servCls': '2Т'}], 'test': '[Люкс, Мягкий, Купе]', 'testSize': 3, 'carTypes': [{'type': 'Люкс', 'itype': 6}, {'type': 'Мягкий', 'itype': 5}, {'type': 'Купе', 'itype': 4}], 'carNumeration': 'FromTail', 'nonRefundable': True, 'addFood': True, 'addGoods': True, 'addCompLuggageNum': 8, 'addCompLuggage': True, 'addHandLuggage': True}, {'number': '024М', 'number2': '024М', 'type': 0, 'typeEx': 0, 'depth': 89, 'new': False, 'elReg': True, 'deferredPayment': False, 'varPrice': False, 'code0': 2000003, 'code1': 2060500, 'bEntire': True, 'trainName': '', 'bFirm': True, 'brand': 'Двухэтажный', 'carrier': 'ФПК', 'route0': 'МОСКВА КАЗ', 'route1': 'КАЗАНЬ ПАС', 'routeCode0': 2000003, 'routeCode1': 2060500, 'trDate0': '24.12.2024', 'trTime0': '23:10', 'station0': 'МОСКВА КАЗАНСКАЯ (КАЗАНСКИЙ ВОКЗАЛ)', 'station1': 'КАЗАНЬ ПАСС', 'date0': '24.12.2024', 'time0': '23:10', 'date1': '25.12.2024', 'time1': '10:50', 'timeInWay': '11:40', 'flMsk': 3, 'train_id': 0, 'cars': [{'carDataType': 1, 'itype': 6, 'type': 'Люкс', 'typeLoc': 'СВ', 'freeSeats': 5, 'pt': 3610, 'tariff': 12060, 'servCls': '1Э'}, {'carDataType': 1, 'itype': 4, 'type': 'Купе', 'typeLoc': 'Купе', 'freeSeats': 278, 'pt': 815, 'tariff': 2725, 'servCls': '2Ф'}], 'test': '[Люкс, Купе]', 'testSize': 2, 'carTypes': [{'type': 'Люкс', 'itype': 6}, {'type': 'Купе', 'itype': 4}], 'carNumeration': 'FromTail', 'nonRefundable': True, 'addFood': True, 'addGoods': True, 'addCompLuggageNum': 8, 'addCompLuggage': True, 'addHandLuggage': True}], 'msgList': []}], 'TransferSearchMode': 'SEMI_AUTO', 'flFPKRoundBonus': False, 'AutoTransferMode': False, 'discounts': {}, 'timestamp': '07.12.2024 15:23:56.983'}, <Response [200]>)\n"
     ]
    }
   ],
   "source": [
    "import requests\n",
    "import datetime\n",
    "import time\n",
    "import json\n",
    "\n",
    "def get_train_routes_with_session(code_from, code_to, date, with_seats=True):\n",
    "    \"\"\"Получение маршрутов с использованием сессии для сохранения состояния.\"\"\"\n",
    "    base_url = \"https://pass.rzd.ru/timetable/public/ru\"\n",
    "    session = requests.Session()  # Инициализируем сессию\n",
    "\n",
    "    headers = {\n",
    "        \"User-Agent\": \"Mozilla/5.0 (Windows NT 10.0; Win64; x64) AppleWebKit/537.36 (KHTML, like Gecko) Chrome/117.0.0.0 Safari/537.36\",\n",
    "        \"Referer\": \"https://pass.rzd.ru/\",\n",
    "        \"Accept-Language\": \"ru-RU,ru;q=0.9,en-US;q=0.8,en;q=0.7\",\n",
    "        \"Connection\": \"keep-alive\"\n",
    "    }\n",
    "\n",
    "    params = {\n",
    "        \"layer_id\": 5827,\n",
    "        \"dir\": 0,\n",
    "        \"tfl\": 1,\n",
    "        \"checkSeats\": 1 if with_seats else 0,\n",
    "        \"code0\": code_from,\n",
    "        \"code1\": code_to,\n",
    "        \"dt0\": \"24.12.2024\"\n",
    "    }\n",
    "\n",
    "\n",
    "    response = session.get(base_url, params=params, headers=headers)\n",
    "    if response.status_code == 200:\n",
    "        try:\n",
    "            data = response.json()\n",
    "            rid = data.get(\"RID\")\n",
    "            if not rid:\n",
    "                print(\"RID нет, поэтому второй запрос не получится сделать\")\n",
    "                print(\"Ответ первого запроса:\", data)\n",
    "                return None\n",
    "\n",
    "            print(f\"Первый запрос выполнен успешно, JSON: {data}\")\n",
    "\n",
    "            time.sleep(1)\n",
    "\n",
    "            second_url = f\"{base_url}?layer_id=5827&rid={rid}\"\n",
    "            second_response = session.get(second_url, headers=headers, params=params)\n",
    "            if second_response.status_code == 200:\n",
    "                data = second_response.json()\n",
    "                print(f\"Второй запрос выполнен успешно, JSON: {data}\")\n",
    "\n",
    "                try:\n",
    "                    return data, second_response\n",
    "                except ValueError:\n",
    "                    print(\"Ошибка преобразования ответа второго запроса в JSON.\")\n",
    "                    print(second_response.text)\n",
    "                    return None\n",
    "\n",
    "            else:\n",
    "                print(f\"Что-то пошло не так при втором запросе, статус ошибки:: {second_response.status_code}, причина: {second_response.reason}\")\n",
    "                return None\n",
    "        except ValueError:\n",
    "            print(\"Ошибка преобразования ответа первого запроса в JSON.\")\n",
    "            print(response.text)\n",
    "            return None\n",
    "    else:\n",
    "        print(f\"Что-то пошло не так при первом запросе, статус ошибки: {response.status_code}\\nПричина: {response.reason}\")\n",
    "        return None\n",
    "\n",
    "\n",
    "def get_station_code(station_name_part):\n",
    "    \"\"\"\n",
    "    Получает код станции по части её названия.\n",
    "    :param station_name_part: Подстрока названия станции (не менее 2 символов).\n",
    "    :return: Список найденных станций в формате [(название, код), ...].\n",
    "    \"\"\"\n",
    "    if len(station_name_part) < 2:\n",
    "        print(\"Название станции должно содержать не менее 2 символов.\")\n",
    "        return None\n",
    "\n",
    "    base_url = \"https://pass.rzd.ru/timetable/public/ru\"\n",
    "    session = requests.Session()  # Создаем сессию\n",
    "\n",
    "    headers = {\n",
    "        \"User-Agent\": \"Mozilla/5.0 (Windows NT 10.0; Win64; x64) AppleWebKit/537.36 (KHTML, like Gecko) Chrome/117.0.0.0 Safari/537.36\",\n",
    "        \"Referer\": \"https://pass.rzd.ru/\",\n",
    "        \"Accept-Language\": \"ru-RU,ru;q=0.9,en-US;q=0.8,en;q=0.7\",\n",
    "        \"Connection\": \"keep-alive\",\n",
    "        \"Accept\": \"application/json, text/javascript, */*; q=0.01\"\n",
    "    }\n",
    "\n",
    "    params = {  # Эндпоинт для поиска станций\n",
    "        'stationNamePart' : station_name_part,\n",
    "    }\n",
    "\n",
    "    try:\n",
    "        # Отправляем запрос через сессию\n",
    "        response = session.get(base_url, params=params, headers=headers)\n",
    "        if response.status_code == 200:\n",
    "            data = response.json()\n",
    "            print(\"Ответ от сервера:\", data)\n",
    "\n",
    "            # Парсим список станций\n",
    "            stations = data.get(\"list\", [])\n",
    "            if not stations:\n",
    "                print(\"Станции не найдены.\")\n",
    "                return None\n",
    "\n",
    "            # Возвращаем список станций в формате [(название, код)]\n",
    "            return [(station[\"station\"], station[\"code\"]) for station in stations]\n",
    "        else:\n",
    "            print(f\"Ошибка запроса: {response.status_code} {response.reason}\")\n",
    "            return None\n",
    "\n",
    "    except requests.exceptions.RequestException as e:\n",
    "        print(f\"Ошибка при запросе: {e}\")\n",
    "        return None\n",
    "    except ValueError:\n",
    "        print(f\"Ошибка при преобразовании ответа в JSON. {response.json()}\")\n",
    "        return None\n",
    "\n",
    "\n",
    "with open(\"codes.json\", 'r') as file:\n",
    "    file = json.load(file)\n",
    "    code_from = file.get(\"москва\")\n",
    "    code_to = file.get(\"казань\")\n",
    "    file1 = get_train_routes_with_session(code_from, code_to,'20.12.2024')\n",
    "    print(file1)\n",
    "\n",
    "\n"
   ]
  },
  {
   "cell_type": "code",
   "execution_count": null,
   "metadata": {
    "colab": {
     "base_uri": "https://localhost:8080/"
    },
    "id": "jZXcS5vWNt0p",
    "outputId": "03e23bb4-a9b9-4847-93b4-ff5480b16f26"
   },
   "outputs": [
    {
     "data": {
      "text/plain": [
       "{'result': 'OK',\n",
       " 'tp': [{'from': 'САНКТ-ПЕТЕРБУРГ ЛАДОЖ.',\n",
       "   'fromCode': 2004006,\n",
       "   'where': 'КИРОВ ПАСС',\n",
       "   'whereCode': 2060600,\n",
       "   'date': '24.12.2024',\n",
       "   'noSeats': False,\n",
       "   'defShowTime': 'local',\n",
       "   'state': 'Trains',\n",
       "   'list': [{'number': '131Г',\n",
       "     'number2': '131Г',\n",
       "     'type': 0,\n",
       "     'typeEx': 0,\n",
       "     'depth': 89,\n",
       "     'new': False,\n",
       "     'elReg': True,\n",
       "     'deferredPayment': False,\n",
       "     'varPrice': False,\n",
       "     'code0': 2004006,\n",
       "     'code1': 2060600,\n",
       "     'bEntire': True,\n",
       "     'trainName': '',\n",
       "     'brand': '',\n",
       "     'carrier': 'ФПК',\n",
       "     'route0': 'С-ПЕТ-ЛАД',\n",
       "     'route1': 'ИЖЕВСК',\n",
       "     'routeCode0': 2004006,\n",
       "     'routeCode1': 2060150,\n",
       "     'trDate0': '24.12.2024',\n",
       "     'trTime0': '13:10',\n",
       "     'station0': 'САНКТ-ПЕТЕРБУРГ (ЛАДОЖСКИЙ ВОКЗАЛ)',\n",
       "     'station1': 'КИРОВ ПАСС',\n",
       "     'date0': '24.12.2024',\n",
       "     'time0': '13:10',\n",
       "     'date1': '25.12.2024',\n",
       "     'time1': '10:10',\n",
       "     'timeInWay': '21:00',\n",
       "     'flMsk': 3,\n",
       "     'train_id': 0,\n",
       "     'cars': [{'carDataType': 1,\n",
       "       'itype': 4,\n",
       "       'type': 'Купе',\n",
       "       'typeLoc': 'Купе',\n",
       "       'freeSeats': 42,\n",
       "       'pt': 1652,\n",
       "       'tariff': 5521,\n",
       "       'servCls': '2К'},\n",
       "      {'carDataType': 1,\n",
       "       'itype': 1,\n",
       "       'type': 'Плац',\n",
       "       'typeLoc': 'Плацкартный',\n",
       "       'freeSeats': 73,\n",
       "       'pt': 1142,\n",
       "       'tariff': 3818,\n",
       "       'servCls': '3Б'}],\n",
       "     'carNumeration': 'FromHead',\n",
       "     'nonRefundable': True,\n",
       "     'addGoods': True,\n",
       "     'addCompLuggageNum': 6,\n",
       "     'addCompLuggage': True,\n",
       "     'addHandLuggage': True},\n",
       "    {'number': '074Е',\n",
       "     'number2': '074Е',\n",
       "     'type': 0,\n",
       "     'typeEx': 0,\n",
       "     'depth': 89,\n",
       "     'new': False,\n",
       "     'elReg': True,\n",
       "     'deferredPayment': False,\n",
       "     'varPrice': False,\n",
       "     'code0': 2004006,\n",
       "     'code1': 2060600,\n",
       "     'bEntire': True,\n",
       "     'trainName': '',\n",
       "     'brand': '',\n",
       "     'carrier': 'ФПК',\n",
       "     'route0': 'С-ПЕТ-ЛАД',\n",
       "     'route1': 'ТЮМЕНЬ',\n",
       "     'routeCode0': 2004006,\n",
       "     'routeCode1': 2030100,\n",
       "     'trDate0': '24.12.2024',\n",
       "     'trTime0': '13:45',\n",
       "     'station0': 'САНКТ-ПЕТЕРБУРГ (ЛАДОЖСКИЙ ВОКЗАЛ)',\n",
       "     'station1': 'КИРОВ ПАСС',\n",
       "     'date0': '24.12.2024',\n",
       "     'time0': '13:45',\n",
       "     'date1': '25.12.2024',\n",
       "     'time1': '10:20',\n",
       "     'timeInWay': '20:35',\n",
       "     'flMsk': 3,\n",
       "     'train_id': 0,\n",
       "     'cars': [{'carDataType': 1,\n",
       "       'itype': 4,\n",
       "       'type': 'Купе',\n",
       "       'typeLoc': 'Купе',\n",
       "       'freeSeats': 3,\n",
       "       'pt': 1677,\n",
       "       'tariff': 5604,\n",
       "       'servCls': '2У'}],\n",
       "     'carNumeration': 'FromTail',\n",
       "     'addFood': True,\n",
       "     'addGoods': True,\n",
       "     'addCompLuggageNum': 15,\n",
       "     'addCompLuggage': True,\n",
       "     'addHandLuggage': True},\n",
       "    {'number': '150А',\n",
       "     'number2': '150А',\n",
       "     'type': 0,\n",
       "     'typeEx': 0,\n",
       "     'depth': 89,\n",
       "     'new': False,\n",
       "     'elReg': True,\n",
       "     'deferredPayment': False,\n",
       "     'varPrice': False,\n",
       "     'code0': 2004006,\n",
       "     'code1': 2060600,\n",
       "     'bEntire': True,\n",
       "     'trainName': '',\n",
       "     'brand': '',\n",
       "     'carrier': 'ФПК',\n",
       "     'route0': 'С-ПЕТ-ЛАД',\n",
       "     'route1': 'ЧЕЛЯБИНСК',\n",
       "     'routeCode0': 2004006,\n",
       "     'routeCode1': 2040000,\n",
       "     'trDate0': '24.12.2024',\n",
       "     'trTime0': '16:02',\n",
       "     'station0': 'САНКТ-ПЕТЕРБУРГ (ЛАДОЖСКИЙ ВОКЗАЛ)',\n",
       "     'station1': 'КИРОВ ПАСС',\n",
       "     'date0': '24.12.2024',\n",
       "     'time0': '16:02',\n",
       "     'date1': '25.12.2024',\n",
       "     'time1': '14:11',\n",
       "     'timeInWay': '22:09',\n",
       "     'flMsk': 3,\n",
       "     'train_id': 0,\n",
       "     'cars': [{'carDataType': 1,\n",
       "       'itype': 4,\n",
       "       'type': 'Купе',\n",
       "       'typeLoc': 'Купе',\n",
       "       'freeSeats': 2,\n",
       "       'pt': 1328,\n",
       "       'tariff': 4438,\n",
       "       'servCls': '2К'}],\n",
       "     'carNumeration': 'FromTail',\n",
       "     'nonRefundable': True,\n",
       "     'addCompLuggageNum': 7,\n",
       "     'addCompLuggage': True,\n",
       "     'addHandLuggage': True}],\n",
       "   'msgList': []}],\n",
       " 'TransferSearchMode': 'SEMI_AUTO',\n",
       " 'flFPKRoundBonus': False,\n",
       " 'AutoTransferMode': False,\n",
       " 'discounts': {},\n",
       " 'timestamp': '06.12.2024 14:45:44.038'}"
      ]
     },
     "execution_count": 57,
     "metadata": {},
     "output_type": "execute_result"
    }
   ],
   "source": [
    "response.status_code\n",
    "response.url\n",
    "response.json()"
   ]
  },
  {
   "cell_type": "code",
   "execution_count": 124,
   "metadata": {
    "colab": {
     "base_uri": "https://localhost:8080/"
    },
    "id": "vwZtWBUPNuzu",
    "outputId": "1be4fde3-0464-4ef2-f974-6a1211ad52da"
   },
   "outputs": [
    {
     "name": "stdout",
     "output_type": "stream",
     "text": [
      "200\n"
     ]
    },
    {
     "data": {
      "text/plain": [
       "'OK'"
      ]
     },
     "execution_count": 124,
     "metadata": {},
     "output_type": "execute_result"
    }
   ],
   "source": [
    "print(response.status_code)\n",
    "response.reason"
   ]
  },
  {
   "cell_type": "markdown",
   "metadata": {
    "id": "lo_kkeC8NVLt"
   },
   "source": [
    "## тест код для обновления данных и уведомлений"
   ]
  },
  {
   "cell_type": "code",
   "execution_count": 5,
   "metadata": {
    "colab": {
     "base_uri": "https://localhost:8080/"
    },
    "id": "RM_msfia9F75",
    "outputId": "2efa847a-0796-416d-c124-a31c317254c3"
   },
   "outputs": [
    {
     "name": "stdout",
     "output_type": "stream",
     "text": [
      "Defaulting to user installation because normal site-packages is not writeable\n",
      "Requirement already satisfied: selenium in /home/edo/.local/lib/python3.10/site-packages (4.27.1)\n",
      "Requirement already satisfied: urllib3<3,>=1.26 in /usr/lib/python3/dist-packages (from urllib3[socks]<3,>=1.26->selenium) (1.26.5)\n",
      "Requirement already satisfied: trio~=0.17 in /home/edo/.local/lib/python3.10/site-packages (from selenium) (0.27.0)\n",
      "Requirement already satisfied: trio-websocket~=0.9 in /home/edo/.local/lib/python3.10/site-packages (from selenium) (0.11.1)\n",
      "Requirement already satisfied: certifi>=2021.10.8 in /home/edo/.local/lib/python3.10/site-packages (from selenium) (2024.8.30)\n",
      "Requirement already satisfied: typing_extensions~=4.9 in /home/edo/.local/lib/python3.10/site-packages (from selenium) (4.12.2)\n",
      "Requirement already satisfied: websocket-client~=1.8 in /home/edo/.local/lib/python3.10/site-packages (from selenium) (1.8.0)\n",
      "Requirement already satisfied: attrs>=23.2.0 in /home/edo/.local/lib/python3.10/site-packages (from trio~=0.17->selenium) (24.2.0)\n",
      "Requirement already satisfied: sortedcontainers in /home/edo/.local/lib/python3.10/site-packages (from trio~=0.17->selenium) (2.4.0)\n",
      "Requirement already satisfied: idna in /home/edo/.local/lib/python3.10/site-packages (from trio~=0.17->selenium) (3.10)\n",
      "Requirement already satisfied: outcome in /home/edo/.local/lib/python3.10/site-packages (from trio~=0.17->selenium) (1.3.0.post0)\n",
      "Requirement already satisfied: sniffio>=1.3.0 in /home/edo/.local/lib/python3.10/site-packages (from trio~=0.17->selenium) (1.3.1)\n",
      "Requirement already satisfied: exceptiongroup in /home/edo/.local/lib/python3.10/site-packages (from trio~=0.17->selenium) (1.2.2)\n",
      "Requirement already satisfied: wsproto>=0.14 in /home/edo/.local/lib/python3.10/site-packages (from trio-websocket~=0.9->selenium) (1.2.0)\n",
      "Requirement already satisfied: PySocks!=1.5.7,<2.0,>=1.5.6 in /home/edo/.local/lib/python3.10/site-packages (from urllib3[socks]<3,>=1.26->selenium) (1.7.1)\n",
      "Requirement already satisfied: h11<1,>=0.9.0 in /home/edo/.local/lib/python3.10/site-packages (from wsproto>=0.14->trio-websocket~=0.9->selenium) (0.14.0)\n"
     ]
    }
   ],
   "source": [
    "!pip install selenium"
   ]
  },
  {
   "cell_type": "code",
   "execution_count": 6,
   "metadata": {
    "colab": {
     "base_uri": "https://localhost:8080/"
    },
    "id": "QmcBWAJ69eqM",
    "outputId": "813108e8-c5a7-4dd1-dec6-002c9f844a1e"
   },
   "outputs": [
    {
     "name": "stdout",
     "output_type": "stream",
     "text": [
      "Defaulting to user installation because normal site-packages is not writeable\n",
      "\u001b[31mERROR: Could not find a version that satisfies the requirement winsound (from versions: none)\u001b[0m\u001b[31m\n",
      "\u001b[0m\u001b[31mERROR: No matching distribution found for winsound\u001b[0m\u001b[31m\n",
      "\u001b[0m"
     ]
    }
   ],
   "source": [
    "!pip install winsound"
   ]
  },
  {
   "cell_type": "code",
   "execution_count": null,
   "metadata": {
    "id": "MO1aUgs19FLm"
   },
   "outputs": [
    {
     "ename": "ModuleNotFoundError",
     "evalue": "No module named 'selenium'",
     "output_type": "error",
     "traceback": [
      "\u001b[0;31m---------------------------------------------------------------------------\u001b[0m",
      "\u001b[0;31mModuleNotFoundError\u001b[0m                       Traceback (most recent call last)",
      "Cell \u001b[0;32mIn[25], line 2\u001b[0m\n\u001b[1;32m      1\u001b[0m \u001b[38;5;66;03m# coding=utf-8\u001b[39;00m\n\u001b[0;32m----> 2\u001b[0m \u001b[38;5;28;01mfrom\u001b[39;00m \u001b[38;5;21;01mselenium\u001b[39;00m \u001b[38;5;28;01mimport\u001b[39;00m webdriver\n\u001b[1;32m      3\u001b[0m \u001b[38;5;28;01mfrom\u001b[39;00m \u001b[38;5;21;01mselenium\u001b[39;00m\u001b[38;5;21;01m.\u001b[39;00m\u001b[38;5;21;01mwebdriver\u001b[39;00m\u001b[38;5;21;01m.\u001b[39;00m\u001b[38;5;21;01mcommon\u001b[39;00m\u001b[38;5;21;01m.\u001b[39;00m\u001b[38;5;21;01mby\u001b[39;00m \u001b[38;5;28;01mimport\u001b[39;00m By\n\u001b[1;32m      4\u001b[0m \u001b[38;5;28;01mfrom\u001b[39;00m \u001b[38;5;21;01mselenium\u001b[39;00m\u001b[38;5;21;01m.\u001b[39;00m\u001b[38;5;21;01mwebdriver\u001b[39;00m\u001b[38;5;21;01m.\u001b[39;00m\u001b[38;5;21;01msupport\u001b[39;00m\u001b[38;5;21;01m.\u001b[39;00m\u001b[38;5;21;01mui\u001b[39;00m \u001b[38;5;28;01mimport\u001b[39;00m Select\n",
      "\u001b[0;31mModuleNotFoundError\u001b[0m: No module named 'selenium'"
     ]
    }
   ],
   "source": [
    "# coding=utf-8\n",
    "from selenium import webdriver\n",
    "from selenium.webdriver.common.by import By\n",
    "from selenium.webdriver.support.ui import Select\n",
    "from selenium.common.exceptions import NoSuchElementException\n",
    "import time, re\n",
    "# import winsound\n",
    "\n",
    "\n",
    "class Rzdtemp():\n",
    "    def __init__(self, logger):\n",
    "        self.logger = logger\n",
    "    def setUp(self):\n",
    "        self.driver = webdriver.Firefox()\n",
    "        self.driver.implicitly_wait(30)\n",
    "        self.base_url = \"http://ticket.rzd.ru/\"\n",
    "        self.verificationErrors = []\n",
    "\n",
    "    def test_rzdtemp(self):\n",
    "\n",
    "        self.logger.info('Вход...')\n",
    "\n",
    "        driver = self.driver\n",
    "        driver.get(self.base_url + \"/static/public/ticket?STRUCTURE_ID=2\")\n",
    "        driver.find_element_by_link_text(\"Вход\").click()\n",
    "\n",
    "        self.logger.info('Ввод логина и пароля...')\n",
    "\n",
    "        driver.find_element_by_id(\"j_username\").clear()\n",
    "        driver.find_element_by_id(\"j_username\").send_keys(\"username\")\n",
    "        driver.find_element_by_id(\"j_password\").clear()\n",
    "        driver.find_element_by_id(\"j_password\").send_keys(\"password\")\n",
    "        driver.find_element_by_id(\"other\").click()\n",
    "\n",
    "        self.logger.info('Меню покупки билетов...')\n",
    "\n",
    "        driver.find_element_by_link_text(\"Покупка билета\").click()\n",
    "\n",
    "        self.logger.info('Ввод данных...')\n",
    "\n",
    "        driver.find_element_by_id(\"fromInput\").clear()\n",
    "        driver.find_element_by_id(\"fromInput\").send_keys(u'КАЗАНЬ ПАСС')\n",
    "        driver.find_element_by_id(\"whereInput\").clear()\n",
    "        driver.find_element_by_id(\"whereInput\").send_keys(u'МОСКВА КАЗАНСКАЯ')\n",
    "        driver.find_element_by_id(\"forwardDate\").clear()\n",
    "        driver.find_element_by_id(\"forwardDate\").send_keys(u'02.09.2012')\n",
    "        driver.find_element_by_id(\"ticket_button_submit\").click()\n",
    "\n",
    "        time.sleep(40)\n",
    "\n",
    "        self.logger.info('Поиск нужных билетов...')\n",
    "        rawhtml = driver.find_element_by_id('ajaxTrainTable').get_attribute(\"innerHTML\")\n",
    "\n",
    "        if u'Плацкартный' in rawhtml:\n",
    "            self.logger.info('!!!ЕСТЬ ПЛАЦКАРТ!!!')\n",
    "            strlist = [x.strip() for x in rawhtml.split('n') if x.strip()!=u'']\n",
    "            #print strlist\n",
    "            train = ''\n",
    "            for i,x in enumerate(strlist):\n",
    "                if x == u'<div class=\"wotnumarrow\">':\n",
    "                    train = strlist[i+1].replace('<span><b>','')\n",
    "                if x == u'Плацкартный':\n",
    "                    #включаем сигнал тревоги\n",
    "                    # winsound.PlaySound('alarma.ogg', winsound.SND_NOWAIT)\n",
    "                    self.logger.info(u'Поезд-%s Число-%s %s' % ( train, strlist[i+3].replace('<b>','').replace('</b>',''),\n",
    "                    strlist[i+5].replace('<td><span>','').replace('</span></td>','')))\n",
    "\n",
    "        elif u'Сидячий' in rawhtml:\n",
    "            self.logger.info('Только сидячие...')\n",
    "        elif u'Купе' in rawhtml:\n",
    "            self.logger.info('Только купе...')\n",
    "\n",
    "        self.logger.info('Выход...')\n",
    "\n",
    "        driver.find_element_by_link_text(\"Выход\").click()\n",
    "\n",
    "    def tearDown(self):\n",
    "        self.logger.info('Закрываем браузер...')\n",
    "        self.driver.close()\n",
    "        self.driver.quit()\n"
   ]
  },
  {
   "cell_type": "code",
   "execution_count": null,
   "metadata": {
    "colab": {
     "base_uri": "https://localhost:8080/",
     "height": 287
    },
    "id": "0IZ_2AdN92eB",
    "outputId": "7a552223-76ea-4c2f-8e2d-0612729f4bda"
   },
   "outputs": [
    {
     "ename": "WebDriverException",
     "evalue": "Message: Process unexpectedly closed with status 1\n",
     "output_type": "error",
     "traceback": [
      "\u001b[0;31m---------------------------------------------------------------------------\u001b[0m",
      "\u001b[0;31mWebDriverException\u001b[0m                        Traceback (most recent call last)",
      "\u001b[0;32m<ipython-input-16-3d14b1772c47>\u001b[0m in \u001b[0;36m<cell line: 5>\u001b[0;34m()\u001b[0m\n\u001b[1;32m      3\u001b[0m \u001b[0mlogger\u001b[0m \u001b[0;34m=\u001b[0m \u001b[0mlogging\u001b[0m\u001b[0;34m.\u001b[0m\u001b[0mgetLogger\u001b[0m\u001b[0;34m(\u001b[0m\u001b[0m__name__\u001b[0m\u001b[0;34m)\u001b[0m\u001b[0;34m\u001b[0m\u001b[0;34m\u001b[0m\u001b[0m\n\u001b[1;32m      4\u001b[0m \u001b[0mtemp\u001b[0m \u001b[0;34m=\u001b[0m \u001b[0mRzdtemp\u001b[0m\u001b[0;34m(\u001b[0m\u001b[0mlogger\u001b[0m\u001b[0;34m)\u001b[0m\u001b[0;34m\u001b[0m\u001b[0;34m\u001b[0m\u001b[0m\n\u001b[0;32m----> 5\u001b[0;31m \u001b[0mtemp\u001b[0m\u001b[0;34m.\u001b[0m\u001b[0msetUp\u001b[0m\u001b[0;34m(\u001b[0m\u001b[0;34m)\u001b[0m\u001b[0;34m\u001b[0m\u001b[0;34m\u001b[0m\u001b[0m\n\u001b[0m",
      "\u001b[0;32m<ipython-input-15-f9cf66a26f08>\u001b[0m in \u001b[0;36msetUp\u001b[0;34m(self)\u001b[0m\n\u001b[1;32m     12\u001b[0m         \u001b[0mself\u001b[0m\u001b[0;34m.\u001b[0m\u001b[0mlogger\u001b[0m \u001b[0;34m=\u001b[0m \u001b[0mlogger\u001b[0m\u001b[0;34m\u001b[0m\u001b[0;34m\u001b[0m\u001b[0m\n\u001b[1;32m     13\u001b[0m     \u001b[0;32mdef\u001b[0m \u001b[0msetUp\u001b[0m\u001b[0;34m(\u001b[0m\u001b[0mself\u001b[0m\u001b[0;34m)\u001b[0m\u001b[0;34m:\u001b[0m\u001b[0;34m\u001b[0m\u001b[0;34m\u001b[0m\u001b[0m\n\u001b[0;32m---> 14\u001b[0;31m         \u001b[0mself\u001b[0m\u001b[0;34m.\u001b[0m\u001b[0mdriver\u001b[0m \u001b[0;34m=\u001b[0m \u001b[0mwebdriver\u001b[0m\u001b[0;34m.\u001b[0m\u001b[0mFirefox\u001b[0m\u001b[0;34m(\u001b[0m\u001b[0;34m)\u001b[0m\u001b[0;34m\u001b[0m\u001b[0;34m\u001b[0m\u001b[0m\n\u001b[0m\u001b[1;32m     15\u001b[0m         \u001b[0mself\u001b[0m\u001b[0;34m.\u001b[0m\u001b[0mdriver\u001b[0m\u001b[0;34m.\u001b[0m\u001b[0mimplicitly_wait\u001b[0m\u001b[0;34m(\u001b[0m\u001b[0;36m30\u001b[0m\u001b[0;34m)\u001b[0m\u001b[0;34m\u001b[0m\u001b[0;34m\u001b[0m\u001b[0m\n\u001b[1;32m     16\u001b[0m         \u001b[0mself\u001b[0m\u001b[0;34m.\u001b[0m\u001b[0mbase_url\u001b[0m \u001b[0;34m=\u001b[0m \u001b[0;34m\"http://ticket.rzd.ru/\"\u001b[0m\u001b[0;34m\u001b[0m\u001b[0;34m\u001b[0m\u001b[0m\n",
      "\u001b[0;32m/usr/local/lib/python3.10/dist-packages/selenium/webdriver/firefox/webdriver.py\u001b[0m in \u001b[0;36m__init__\u001b[0;34m(self, options, service, keep_alive)\u001b[0m\n\u001b[1;32m     69\u001b[0m \u001b[0;34m\u001b[0m\u001b[0m\n\u001b[1;32m     70\u001b[0m         \u001b[0;32mtry\u001b[0m\u001b[0;34m:\u001b[0m\u001b[0;34m\u001b[0m\u001b[0;34m\u001b[0m\u001b[0m\n\u001b[0;32m---> 71\u001b[0;31m             \u001b[0msuper\u001b[0m\u001b[0;34m(\u001b[0m\u001b[0;34m)\u001b[0m\u001b[0;34m.\u001b[0m\u001b[0m__init__\u001b[0m\u001b[0;34m(\u001b[0m\u001b[0mcommand_executor\u001b[0m\u001b[0;34m=\u001b[0m\u001b[0mexecutor\u001b[0m\u001b[0;34m,\u001b[0m \u001b[0moptions\u001b[0m\u001b[0;34m=\u001b[0m\u001b[0moptions\u001b[0m\u001b[0;34m)\u001b[0m\u001b[0;34m\u001b[0m\u001b[0;34m\u001b[0m\u001b[0m\n\u001b[0m\u001b[1;32m     72\u001b[0m         \u001b[0;32mexcept\u001b[0m \u001b[0mException\u001b[0m\u001b[0;34m:\u001b[0m\u001b[0;34m\u001b[0m\u001b[0;34m\u001b[0m\u001b[0m\n\u001b[1;32m     73\u001b[0m             \u001b[0mself\u001b[0m\u001b[0;34m.\u001b[0m\u001b[0mquit\u001b[0m\u001b[0;34m(\u001b[0m\u001b[0;34m)\u001b[0m\u001b[0;34m\u001b[0m\u001b[0;34m\u001b[0m\u001b[0m\n",
      "\u001b[0;32m/usr/local/lib/python3.10/dist-packages/selenium/webdriver/remote/webdriver.py\u001b[0m in \u001b[0;36m__init__\u001b[0;34m(self, command_executor, keep_alive, file_detector, options, locator_converter, web_element_cls, client_config)\u001b[0m\n\u001b[1;32m    236\u001b[0m         \u001b[0mself\u001b[0m\u001b[0;34m.\u001b[0m\u001b[0m_authenticator_id\u001b[0m \u001b[0;34m=\u001b[0m \u001b[0;32mNone\u001b[0m\u001b[0;34m\u001b[0m\u001b[0;34m\u001b[0m\u001b[0m\n\u001b[1;32m    237\u001b[0m         \u001b[0mself\u001b[0m\u001b[0;34m.\u001b[0m\u001b[0mstart_client\u001b[0m\u001b[0;34m(\u001b[0m\u001b[0;34m)\u001b[0m\u001b[0;34m\u001b[0m\u001b[0;34m\u001b[0m\u001b[0m\n\u001b[0;32m--> 238\u001b[0;31m         \u001b[0mself\u001b[0m\u001b[0;34m.\u001b[0m\u001b[0mstart_session\u001b[0m\u001b[0;34m(\u001b[0m\u001b[0mcapabilities\u001b[0m\u001b[0;34m)\u001b[0m\u001b[0;34m\u001b[0m\u001b[0;34m\u001b[0m\u001b[0m\n\u001b[0m\u001b[1;32m    239\u001b[0m \u001b[0;34m\u001b[0m\u001b[0m\n\u001b[1;32m    240\u001b[0m         \u001b[0mself\u001b[0m\u001b[0;34m.\u001b[0m\u001b[0m_websocket_connection\u001b[0m \u001b[0;34m=\u001b[0m \u001b[0;32mNone\u001b[0m\u001b[0;34m\u001b[0m\u001b[0;34m\u001b[0m\u001b[0m\n",
      "\u001b[0;32m/usr/local/lib/python3.10/dist-packages/selenium/webdriver/remote/webdriver.py\u001b[0m in \u001b[0;36mstart_session\u001b[0;34m(self, capabilities)\u001b[0m\n\u001b[1;32m    323\u001b[0m \u001b[0;34m\u001b[0m\u001b[0m\n\u001b[1;32m    324\u001b[0m         \u001b[0mcaps\u001b[0m \u001b[0;34m=\u001b[0m \u001b[0m_create_caps\u001b[0m\u001b[0;34m(\u001b[0m\u001b[0mcapabilities\u001b[0m\u001b[0;34m)\u001b[0m\u001b[0;34m\u001b[0m\u001b[0;34m\u001b[0m\u001b[0m\n\u001b[0;32m--> 325\u001b[0;31m         \u001b[0mresponse\u001b[0m \u001b[0;34m=\u001b[0m \u001b[0mself\u001b[0m\u001b[0;34m.\u001b[0m\u001b[0mexecute\u001b[0m\u001b[0;34m(\u001b[0m\u001b[0mCommand\u001b[0m\u001b[0;34m.\u001b[0m\u001b[0mNEW_SESSION\u001b[0m\u001b[0;34m,\u001b[0m \u001b[0mcaps\u001b[0m\u001b[0;34m)\u001b[0m\u001b[0;34m[\u001b[0m\u001b[0;34m\"value\"\u001b[0m\u001b[0;34m]\u001b[0m\u001b[0;34m\u001b[0m\u001b[0;34m\u001b[0m\u001b[0m\n\u001b[0m\u001b[1;32m    326\u001b[0m         \u001b[0mself\u001b[0m\u001b[0;34m.\u001b[0m\u001b[0msession_id\u001b[0m \u001b[0;34m=\u001b[0m \u001b[0mresponse\u001b[0m\u001b[0;34m.\u001b[0m\u001b[0mget\u001b[0m\u001b[0;34m(\u001b[0m\u001b[0;34m\"sessionId\"\u001b[0m\u001b[0;34m)\u001b[0m\u001b[0;34m\u001b[0m\u001b[0;34m\u001b[0m\u001b[0m\n\u001b[1;32m    327\u001b[0m         \u001b[0mself\u001b[0m\u001b[0;34m.\u001b[0m\u001b[0mcaps\u001b[0m \u001b[0;34m=\u001b[0m \u001b[0mresponse\u001b[0m\u001b[0;34m.\u001b[0m\u001b[0mget\u001b[0m\u001b[0;34m(\u001b[0m\u001b[0;34m\"capabilities\"\u001b[0m\u001b[0;34m)\u001b[0m\u001b[0;34m\u001b[0m\u001b[0;34m\u001b[0m\u001b[0m\n",
      "\u001b[0;32m/usr/local/lib/python3.10/dist-packages/selenium/webdriver/remote/webdriver.py\u001b[0m in \u001b[0;36mexecute\u001b[0;34m(self, driver_command, params)\u001b[0m\n\u001b[1;32m    378\u001b[0m         \u001b[0mresponse\u001b[0m \u001b[0;34m=\u001b[0m \u001b[0mself\u001b[0m\u001b[0;34m.\u001b[0m\u001b[0mcommand_executor\u001b[0m\u001b[0;34m.\u001b[0m\u001b[0mexecute\u001b[0m\u001b[0;34m(\u001b[0m\u001b[0mdriver_command\u001b[0m\u001b[0;34m,\u001b[0m \u001b[0mparams\u001b[0m\u001b[0;34m)\u001b[0m\u001b[0;34m\u001b[0m\u001b[0;34m\u001b[0m\u001b[0m\n\u001b[1;32m    379\u001b[0m         \u001b[0;32mif\u001b[0m \u001b[0mresponse\u001b[0m\u001b[0;34m:\u001b[0m\u001b[0;34m\u001b[0m\u001b[0;34m\u001b[0m\u001b[0m\n\u001b[0;32m--> 380\u001b[0;31m             \u001b[0mself\u001b[0m\u001b[0;34m.\u001b[0m\u001b[0merror_handler\u001b[0m\u001b[0;34m.\u001b[0m\u001b[0mcheck_response\u001b[0m\u001b[0;34m(\u001b[0m\u001b[0mresponse\u001b[0m\u001b[0;34m)\u001b[0m\u001b[0;34m\u001b[0m\u001b[0;34m\u001b[0m\u001b[0m\n\u001b[0m\u001b[1;32m    381\u001b[0m             \u001b[0mresponse\u001b[0m\u001b[0;34m[\u001b[0m\u001b[0;34m\"value\"\u001b[0m\u001b[0;34m]\u001b[0m \u001b[0;34m=\u001b[0m \u001b[0mself\u001b[0m\u001b[0;34m.\u001b[0m\u001b[0m_unwrap_value\u001b[0m\u001b[0;34m(\u001b[0m\u001b[0mresponse\u001b[0m\u001b[0;34m.\u001b[0m\u001b[0mget\u001b[0m\u001b[0;34m(\u001b[0m\u001b[0;34m\"value\"\u001b[0m\u001b[0;34m,\u001b[0m \u001b[0;32mNone\u001b[0m\u001b[0;34m)\u001b[0m\u001b[0;34m)\u001b[0m\u001b[0;34m\u001b[0m\u001b[0;34m\u001b[0m\u001b[0m\n\u001b[1;32m    382\u001b[0m             \u001b[0;32mreturn\u001b[0m \u001b[0mresponse\u001b[0m\u001b[0;34m\u001b[0m\u001b[0;34m\u001b[0m\u001b[0m\n",
      "\u001b[0;32m/usr/local/lib/python3.10/dist-packages/selenium/webdriver/remote/errorhandler.py\u001b[0m in \u001b[0;36mcheck_response\u001b[0;34m(self, response)\u001b[0m\n\u001b[1;32m    227\u001b[0m                 \u001b[0malert_text\u001b[0m \u001b[0;34m=\u001b[0m \u001b[0mvalue\u001b[0m\u001b[0;34m[\u001b[0m\u001b[0;34m\"alert\"\u001b[0m\u001b[0;34m]\u001b[0m\u001b[0;34m.\u001b[0m\u001b[0mget\u001b[0m\u001b[0;34m(\u001b[0m\u001b[0;34m\"text\"\u001b[0m\u001b[0;34m)\u001b[0m\u001b[0;34m\u001b[0m\u001b[0;34m\u001b[0m\u001b[0m\n\u001b[1;32m    228\u001b[0m             \u001b[0;32mraise\u001b[0m \u001b[0mexception_class\u001b[0m\u001b[0;34m(\u001b[0m\u001b[0mmessage\u001b[0m\u001b[0;34m,\u001b[0m \u001b[0mscreen\u001b[0m\u001b[0;34m,\u001b[0m \u001b[0mstacktrace\u001b[0m\u001b[0;34m,\u001b[0m \u001b[0malert_text\u001b[0m\u001b[0;34m)\u001b[0m  \u001b[0;31m# type: ignore[call-arg]  # mypy is not smart enough here\u001b[0m\u001b[0;34m\u001b[0m\u001b[0;34m\u001b[0m\u001b[0m\n\u001b[0;32m--> 229\u001b[0;31m         \u001b[0;32mraise\u001b[0m \u001b[0mexception_class\u001b[0m\u001b[0;34m(\u001b[0m\u001b[0mmessage\u001b[0m\u001b[0;34m,\u001b[0m \u001b[0mscreen\u001b[0m\u001b[0;34m,\u001b[0m \u001b[0mstacktrace\u001b[0m\u001b[0;34m)\u001b[0m\u001b[0;34m\u001b[0m\u001b[0;34m\u001b[0m\u001b[0m\n\u001b[0m",
      "\u001b[0;31mWebDriverException\u001b[0m: Message: Process unexpectedly closed with status 1\n"
     ]
    }
   ],
   "source": [
    "import logging\n",
    "\n",
    "logger = logging.getLogger(__name__)\n",
    "temp = Rzdtemp(logger)\n",
    "temp.setUp()"
   ]
  },
  {
   "cell_type": "code",
   "execution_count": null,
   "metadata": {
    "colab": {
     "base_uri": "https://localhost:8080/",
     "height": 263
    },
    "id": "uqpP-pII-WkK",
    "outputId": "c7764f23-9b42-4efe-b474-16c42855ae14"
   },
   "outputs": [
    {
     "ename": "AttributeError",
     "evalue": "'Rzdtemp' object has no attribute 'driver'",
     "output_type": "error",
     "traceback": [
      "\u001b[0;31m---------------------------------------------------------------------------\u001b[0m",
      "\u001b[0;31mAttributeError\u001b[0m                            Traceback (most recent call last)",
      "\u001b[0;32m<ipython-input-11-d433d8e30989>\u001b[0m in \u001b[0;36m<cell line: 1>\u001b[0;34m()\u001b[0m\n\u001b[0;32m----> 1\u001b[0;31m \u001b[0mtemp\u001b[0m\u001b[0;34m.\u001b[0m\u001b[0mtest_rzdtemp\u001b[0m\u001b[0;34m(\u001b[0m\u001b[0;34m)\u001b[0m\u001b[0;34m\u001b[0m\u001b[0;34m\u001b[0m\u001b[0m\n\u001b[0m",
      "\u001b[0;32m<ipython-input-6-f9cf66a26f08>\u001b[0m in \u001b[0;36mtest_rzdtemp\u001b[0;34m(self)\u001b[0m\n\u001b[1;32m     21\u001b[0m         \u001b[0mself\u001b[0m\u001b[0;34m.\u001b[0m\u001b[0mlogger\u001b[0m\u001b[0;34m.\u001b[0m\u001b[0minfo\u001b[0m\u001b[0;34m(\u001b[0m\u001b[0;34m'Вход...'\u001b[0m\u001b[0;34m)\u001b[0m\u001b[0;34m\u001b[0m\u001b[0;34m\u001b[0m\u001b[0m\n\u001b[1;32m     22\u001b[0m \u001b[0;34m\u001b[0m\u001b[0m\n\u001b[0;32m---> 23\u001b[0;31m         \u001b[0mdriver\u001b[0m \u001b[0;34m=\u001b[0m \u001b[0mself\u001b[0m\u001b[0;34m.\u001b[0m\u001b[0mdriver\u001b[0m\u001b[0;34m\u001b[0m\u001b[0;34m\u001b[0m\u001b[0m\n\u001b[0m\u001b[1;32m     24\u001b[0m         \u001b[0mdriver\u001b[0m\u001b[0;34m.\u001b[0m\u001b[0mget\u001b[0m\u001b[0;34m(\u001b[0m\u001b[0mself\u001b[0m\u001b[0;34m.\u001b[0m\u001b[0mbase_url\u001b[0m \u001b[0;34m+\u001b[0m \u001b[0;34m\"/static/public/ticket?STRUCTURE_ID=2\"\u001b[0m\u001b[0;34m)\u001b[0m\u001b[0;34m\u001b[0m\u001b[0;34m\u001b[0m\u001b[0m\n\u001b[1;32m     25\u001b[0m         \u001b[0mdriver\u001b[0m\u001b[0;34m.\u001b[0m\u001b[0mfind_element_by_link_text\u001b[0m\u001b[0;34m(\u001b[0m\u001b[0;34m\"Вход\"\u001b[0m\u001b[0;34m)\u001b[0m\u001b[0;34m.\u001b[0m\u001b[0mclick\u001b[0m\u001b[0;34m(\u001b[0m\u001b[0;34m)\u001b[0m\u001b[0;34m\u001b[0m\u001b[0;34m\u001b[0m\u001b[0m\n",
      "\u001b[0;31mAttributeError\u001b[0m: 'Rzdtemp' object has no attribute 'driver'"
     ]
    }
   ],
   "source": [
    "temp.test_rzdtemp()"
   ]
  }
 ],
 "metadata": {
  "colab": {
   "provenance": []
  },
  "kernelspec": {
   "display_name": "Python 3",
   "name": "python3"
  },
  "language_info": {
   "codemirror_mode": {
    "name": "ipython",
    "version": 3
   },
   "file_extension": ".py",
   "mimetype": "text/x-python",
   "name": "python",
   "nbconvert_exporter": "python",
   "pygments_lexer": "ipython3",
   "version": "3.11.0rc1"
  }
 },
 "nbformat": 4,
 "nbformat_minor": 0
}
