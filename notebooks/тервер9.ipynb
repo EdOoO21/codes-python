{
 "cells": [
  {
   "cell_type": "markdown",
   "metadata": {},
   "source": [
    "Аделя привеееет!!"
   ]
  },
  {
   "cell_type": "markdown",
   "metadata": {},
   "source": [
    "вот и последнее в этом году дз, ну поехали"
   ]
  },
  {
   "cell_type": "markdown",
   "metadata": {},
   "source": [
    "импортнем наших дорогих"
   ]
  },
  {
   "cell_type": "code",
   "execution_count": 72,
   "metadata": {},
   "outputs": [
    {
     "name": "stdout",
     "output_type": "stream",
     "text": [
      "Requirement already satisfied: numpy in /home/edo/codes-python/.venv/lib/python3.12/site-packages (2.2.0)\n",
      "Note: you may need to restart the kernel to use updated packages.\n"
     ]
    }
   ],
   "source": [
    "%pip install numpy"
   ]
  },
  {
   "cell_type": "code",
   "execution_count": 73,
   "metadata": {},
   "outputs": [],
   "source": [
    "import numpy as np\n",
    "import random\n"
   ]
  },
  {
   "cell_type": "markdown",
   "metadata": {},
   "source": [
    "**пункт А:**"
   ]
  },
  {
   "cell_type": "code",
   "execution_count": 74,
   "metadata": {},
   "outputs": [
    {
     "name": "stdout",
     "output_type": "stream",
     "text": [
      "90.4029\n"
     ]
    }
   ],
   "source": [
    "\n",
    "ans = 0\n",
    "p = [0.3, 0.4, 0.5]\n",
    "for i in range(10000):\n",
    "    s, w, l = 0, [0,0,0], [0,0,0]\n",
    "    for x in range(200):\n",
    "\n",
    "        arr = [np.random.beta(1 + w[_], 1 + l[_]) for _ in range(3)]\n",
    "        choosed = arr.index(max(arr))\n",
    "\n",
    "\n",
    "        if np.random.rand() < p[choosed]:\n",
    "            w[choosed] += 1\n",
    "        else:\n",
    "            l[choosed] += 1\n",
    "\n",
    "        s += np.random.rand() < p[arr.index(max(arr))]\n",
    "\n",
    "\n",
    "    ans += s\n",
    "\n",
    "print(ans / 10000)"
   ]
  },
  {
   "cell_type": "markdown",
   "metadata": {},
   "source": [
    "**пункт Б:**"
   ]
  },
  {
   "cell_type": "code",
   "execution_count": 75,
   "metadata": {},
   "outputs": [
    {
     "name": "stdout",
     "output_type": "stream",
     "text": [
      "90.1129\n"
     ]
    }
   ],
   "source": [
    "ans = 0\n",
    "p = [0.3, 0.4, 0.5]\n",
    "for i in range(10000):\n",
    "    s, w, l = 0, [0, 0, 0], [0, 0, 0]\n",
    "    for x in range(200):\n",
    "\n",
    "        arr = [(1 + x) / (2 + x + y) for x, y in zip(w, l)]\n",
    "        maxv = max(arr)\n",
    "        a = [ind for ind, v in enumerate(arr) if v == maxv]\n",
    "\n",
    "\n",
    "\n",
    "        if len(a) == 1:\n",
    "            choosed = a[0]\n",
    "        else:\n",
    "            choosed = random.choice(a)\n",
    "\n",
    "\n",
    "\n",
    "        if random.random() < p[choosed]:\n",
    "            w[choosed] += 1\n",
    "        else:\n",
    "            l[choosed] += 1\n",
    "\n",
    "\n",
    "        s += random.random() < p[choosed]\n",
    "\n",
    "\n",
    "\n",
    "    ans += s\n",
    "print(ans / 10000)\n"
   ]
  },
  {
   "cell_type": "markdown",
   "metadata": {},
   "source": [
    "ну вот и все собственно, пока !"
   ]
  }
 ],
 "metadata": {
  "kernelspec": {
   "display_name": ".venv",
   "language": "python",
   "name": "python3"
  },
  "language_info": {
   "codemirror_mode": {
    "name": "ipython",
    "version": 3
   },
   "file_extension": ".py",
   "mimetype": "text/x-python",
   "name": "python",
   "nbconvert_exporter": "python",
   "pygments_lexer": "ipython3",
   "version": "3.12.3"
  }
 },
 "nbformat": 4,
 "nbformat_minor": 2
}
