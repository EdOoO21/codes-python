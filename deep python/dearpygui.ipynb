{
 "cells": [
  {
   "cell_type": "markdown",
   "metadata": {},
   "source": [
    "**DearPyGui** - библиотечка для всяких интерфейсов с кнопочками, графиков и многое другое, короче крутая тема, трудно описать все возможности так коротко, но в процессе станет яснее"
   ]
  },
  {
   "cell_type": "markdown",
   "metadata": {},
   "source": [
    "<font color=\"red\">**Предупреждение: в колабе лично у меня не работало ничего, так что лучше скачать видимо и смотреть в вс коде**</font>\n"
   ]
  },
  {
   "cell_type": "markdown",
   "metadata": {},
   "source": [
    "# **Часть 1. Импорты**"
   ]
  },
  {
   "cell_type": "markdown",
   "metadata": {},
   "source": [
    "Для начала, хотя бы скачаем что надо :"
   ]
  },
  {
   "cell_type": "code",
   "execution_count": 1,
   "metadata": {},
   "outputs": [
    {
     "name": "stdout",
     "output_type": "stream",
     "text": [
      "Defaulting to user installation because normal site-packages is not writeable\n",
      "Requirement already satisfied: dearpygui in /home/edo/.local/lib/python3.11/site-packages (2.0.0)\n",
      "Note: you may need to restart the kernel to use updated packages.\n"
     ]
    }
   ],
   "source": [
    "%pip install dearpygui"
   ]
  },
  {
   "cell_type": "markdown",
   "metadata": {},
   "source": [
    "Теперь импортнем все что надо :"
   ]
  },
  {
   "cell_type": "code",
   "execution_count": 2,
   "metadata": {},
   "outputs": [],
   "source": [
    "import dearpygui.dearpygui as dpg\n",
    "import dearpygui.demo as demo\n",
    "import time"
   ]
  },
  {
   "cell_type": "markdown",
   "metadata": {},
   "source": [
    "**<font color=#00CED1>Занимательная деталь:</font>** есть написанный разрабами файл demo.py, который реализует функционал библиотеки, показывает ее возможности, вот собственно он : "
   ]
  },
  {
   "cell_type": "code",
   "execution_count": 3,
   "metadata": {},
   "outputs": [],
   "source": [
    "dpg.create_context()\n",
    "dpg.create_viewport()\n",
    "\n",
    "demo.show_demo()\n",
    "\n",
    "dpg.setup_dearpygui()\n",
    "dpg.show_viewport()\n",
    "dpg.start_dearpygui()\n",
    "dpg.destroy_context()"
   ]
  },
  {
   "cell_type": "markdown",
   "metadata": {},
   "source": [
    "\n",
    "# **Часть 2. Основы**"
   ]
  },
  {
   "cell_type": "markdown",
   "metadata": {},
   "source": [
    "**<font color=#1E90FF>1. Для начала, каждая программа должна включать в себя функции:</font>**  \n",
    "\n",
    "\n",
    "Сразу предупрежу, что в некоторых функциях параметры перечислены только основные\n",
    "\n",
    "<span style=\"margin-left:20px;\">1. <font color=#50C878>**create_context()**</font> - создает контекст нашего интерфейса, типа объявляем, что щас будем определять интерфейс, параметров не принимает никаких\n",
    "\n",
    "<span style=\"margin-left:20px;\">2. <font color=#50C878>**create_viewport()**</font> - создает окно (viewport) для вывода интерфейса, параметров:  \n",
    "    <span style=\"margin-left:40px;\"><font style=\"color:#FFFF00\">title</font> : <font color=#00CED1>str</font>  Название создаваемого окна, по дефолту \"Dear PyGui\"</span>  \n",
    "    <span style=\"margin-left:40px;\"><font style=\"color:#FFFF00\">width</font> : <font color=#00CED1>int</font>  очев ширина окна, по дефолту 1280</span>  \n",
    "    <span style=\"margin-left:40px;\"><font style=\"color:#FFFF00\">height</font> : <font color=#00CED1>int</font>  очев высота окна, по дефолту 720</span>  \n",
    "    <span style=\"margin-left:40px;\"><font style=\"color:#FFFF00\">x_pos</font> : <font color=#00CED1>int</font> координата по x, по дефолту 100</span>  \n",
    "    <span style=\"margin-left:40px;\"><font style=\"color:#FFFF00\">y_pos</font> : <font color=#00CED1>int</font> координата по y, по дефолту 100</span>  \n",
    "    <span style=\"margin-left:40px;\"><font style=\"color:#FFFF00\">resizable</font> : <font color=#00CED1>bool</font> можно ли менять размер окна, по дефолту True</span>  \n",
    "    <span style=\"margin-left:40px;\">Далее 4 параметра для ограничения максимального и минимального размера окна:  \n",
    "    <span style=\"margin-left:40px;\">они все type = <font color=#00CED1>int</font>, по дефолту None, <font style=\"color:#FFFF00\">min_width</font>, <font style=\"color:#FFFF00\">min_height</font>, <font style=\"color:#FFFF00\">max_width</font>, <font style=\"color:#FFFF00\">max_height</font></span>  \n",
    "\n",
    "<span style=\"margin-left:20px;\">3. <font color=#50C878>**setup_dearpygui()**</font> - выполняет всякие внутренние штуки, финально все связывает и инициализирует, параметров нет  \n",
    "\n",
    "<span style=\"margin-left:20px;\">4. <font color=#50C878>**show_viewport()**</font> - отображает собственно наш настроенный viewport, принимает только 1 параметр:  \n",
    "    <span style=\"margin-left:40px;\"><font style=\"color:#FFFF00\">maximized</font> : <font color=#00CED1>bool</font> развернется ли окно на весь экран или нет, по дефолту False (не разворачивается)</span>  \n",
    "\n",
    "<span style=\"margin-left:20px;\">5. <font color=#50C878>**start_dearpygui()**</font> - запускает основной цикл нашего контекста, отвечает за обработку событий (действия пользователя), есть 2 параметра:  \n",
    "    <span style=\"margin-left:40px;\"><font style=\"color:#FFFF00\">primary_window</font> : <font color=#00CED1>str</font> указывает название главного окна интерфейса, оно управляет циклом событий, по дефолту None</span>  \n",
    "    <span style=\"margin-left:40px;\"><font style=\"color:#FFFF00\">max_fps</font> : <font color=#00CED1>float</font> максимальная частота обновления интерфейса, по дефолту None</span>  \n",
    "\n",
    "<span style=\"margin-left:20px;\">6. <font color=#50C878>**destroy_context()**</font> - уничтожает контекст, как и написано, параметров нет\n"
   ]
  },
  {
   "cell_type": "markdown",
   "metadata": {},
   "source": [
    "---"
   ]
  },
  {
   "cell_type": "markdown",
   "metadata": {},
   "source": [
    "**<font color=#1E90FF>2. Чтобы сделать хоть какой-то интерфейс, нужно научиться создавать само содержимое окна, форматировать окно или окна:</font>**"
   ]
  },
  {
   "cell_type": "markdown",
   "metadata": {},
   "source": [
    "Все что есть в dpg(Dear Py Gui) (ползунки, кнопочки, контейнеры всякие, окна и тп) называется элементами. Все они в dpg создаются при помощи команд <font color=#50C878>*add_?*</font> и <font color=#50C878>*draw_?*</font> (ну еще контейнеры с помощью контекстного менеджера, но об этом далее), например <font color=#50C878>add_buton()</font> и тп. Каждый элемент имеет тэг(tag) - уникальный ключ для обращения к нему далее в коде, его можно ввести вручную, либо библиотека сама сгенерит и вернет как результат выполнения функций <font color=#50C878>*add_?*</font> и <font color=#50C878>*draw_?*</font>, но числа от 0 до 10 забиты за внутренними элементами dpg.  \n",
    "\n",
    "Также у всех абсолютно элементв есть общие необязательные параметры :\n",
    "\n",
    "<span style=\"margin-left:40px;\"><font style=\"color:#FFFF00\">label</font> : <font color=#00CED1>str</font>  название элемента, по дефолту генерится в зависимости от типа элемента</span>  \n",
    "<span style=\"margin-left:40px;\"><font style=\"color:#FFFF00\">tag</font> : <font color=#00CED1>int | str</font> как уже сказал уникальный ID элемента, который можно указать самому, по дефолту сгенерится</span>  \n",
    "<span style=\"margin-left:40px;\"><font style=\"color:#FFFF00\">user_data</font> : <font color=#00CED1>Any</font> доп данные которые можно передать, используется в так называемых callback'ах, функциях, которые выполняются при нажатии кнопки, например</span>  \n",
    "<span style=\"margin-left:40px;\"><font style=\"color:#FFFF00\">use_internal_label</font> : <font color=#00CED1>bool</font> автоматом генерит название элемента, даже если его не указали</span>  \n",
    "\n"
   ]
  },
  {
   "cell_type": "markdown",
   "metadata": {},
   "source": [
    "<font color=#00CED1>**Контейнеры**</font> - имеют разный функционал, но в основном они либо являются окнами, в которых интерфейс открывается, либо обслуживают эти самые окна  \n",
    "<span style=\"margin-left:40px;\">Перечислим тройку основных, их штук 10, но примеры на все все равно не получится сделать (тк доклад будет просто огромный), поэтому опишем только те, которые получится объемлеть\n",
    "\n",
    "1. <font color=#50C878>**Window**</font> (окно собственно),   \n",
    "    окно в котором открывается сам интерфейс  \n",
    "    Создается с помощью <font color=#50C878>add_window()</font> или через контекстный менеджер <font color=#50C878>with dpg.window()</font>  \n",
    "    Параметры:\n",
    "    <font color=#FFFF00>label</font> : <font color=#00CED1>str</font> название окна  , по дефолту \"Window\"  \n",
    "    <font color=#FFFF00>pos</font> : <font color=#00CED1>list[int, int] | tuple[int, int]</font> позиция окна  , по дефолту (100, 100)  \n",
    "    <font color=#FFFF00>width</font> : <font color=#00CED1>int</font> ширина окна  , по дефолту 300  \n",
    "    <font color=#FFFF00>height</font> : <font color=#00CED1>int</font> высота окна  , по дефолту 200  \n",
    "    <font color=#FFFF00>modal</font> : <font color=#00CED1>bool</font> True = окно блокирует все действия с другими, пока не закроется это  , по дефолту False  \n",
    "    <font color=#FFFF00>no_title_bar</font> : <font color=#00CED1>bool</font> скрыть заголовок  , по дефолту False  \n",
    "    <font color=#FFFF00>no_move</font> : <font color=#00CED1>bool</font> не дает перемещать окно  , по дефолту False  \n",
    "    <font color=#FFFF00>no_resize</font> : <font color=#00CED1>bool</font> не дает менять его  , по дефолту False  \n",
    "    <font color=#FFFF00>no_close</font> : <font color=#00CED1>bool</font> скрывает кнопку закрытия  , по дефолту False  \n",
    "    <font color=#FFFF00>no_background</font> : <font color=#00CED1>bool</font> скрывает фон окна  , по дефолту False  \n",
    "    <font color=#FFFF00>autosize</font> : <font color=#00CED1>bool</font> авто подстройка размера окна под содержимое  , по дефолту False  \n",
    "    <font color=#FFFF00>show</font> : <font color=#00CED1>bool</font> отображать окно сразу  , по дефолту True  \n",
    "\n",
    "2. <font color=#50C878>**Group**</font> (группа)  \n",
    "    нужна чтобы группировать элементы, сразу выравнивать их по вертикали | горизонтали  \n",
    "    Создаётся с помощью <font color=#50C878>add_group</font> или через контекстный менеджер <font color=#50C878>with dpg.group</font>.  \n",
    "    Параметры:  \n",
    "    <font color=#FFFF00>horizontal</font> : <font color=#00CED1>bool</font> горизонтальное выравнивание  , по дефолту False = вертикально выравнивается   \n",
    "    <font color=#FFFF00>horizontal_spacing</font> : <font color=#00CED1>int</font> расстояние между элементами при горизонтальном выравнивании  , по дефолту 0  \n",
    "    <font color=#FFFF00>xoffset</font> : <font color=#00CED1>float</font> отступ по оси X  , по дефолту 0.0  \n",
    "    <font color=#FFFF00>width</font> : <font color=#00CED1>int</font> ширина группы  , по дефолту 0  \n",
    "\n",
    "3. <font color=#50C878>**Child Window**</font> (Вложенное окно)  \n",
    "    Как подокно в окне, которое можно листать вверх вниз, как страницу в инете  \n",
    "    Создаётся с помощью <font color=#50C878>add_child_window</font> или через контекстный менеджер <font color=#50C878>with dpg.child</font>.  \n",
    "    Параметры:  \n",
    "    <font color=#FFFF00>autosize_x</font> : <font color=#00CED1>bool</font> автоматически подстраиваться по оси X  , по дефолту False  \n",
    "    <font color=#FFFF00>autosize_y</font> : <font color=#00CED1>bool</font> автоматически подстраиваться по оси Y  , по дефолту False  \n",
    "    <font color=#FFFF00>border</font> : <font color=#00CED1>bool</font> наличие границы  , по дефолту True  \n",
    "    <font color=#FFFF00>menubar</font> : <font color=#00CED1>bool</font> добавление меню  , по дефолту False  \n",
    "    <font color=#FFFF00>width</font> : <font color=#00CED1>int</font> ширина контейнера  , по дефолту 0  \n",
    "    <font color=#FFFF00>height</font> : <font color=#00CED1>int</font> высота контейнера  , по дефолту 0  "
   ]
  },
  {
   "cell_type": "markdown",
   "metadata": {},
   "source": [
    "<font color=#00CED1>**UI элементы**</font> - это всякие кнопочки, ползунки, строки ввода в окне и тому подобное, то что именно и создает интерфейс  \n",
    "<span style=\"margin-left:40px;\">Их просто тонна, давайте я буду писать примеры и писать комменты о том, что какая функция делает, иначе мы просто зафлудим как про контейнеры  \n",
    "<span style=\"margin-left:40px;\">Также куча параметров у всех функций, не буду их все писать, так как будет слишком много, в основом они похожи: координата, ширина, высота и тому подобное"
   ]
  },
  {
   "cell_type": "markdown",
   "metadata": {},
   "source": [
    "<font color=#00CED1>**Handlers**</font> - это штуки, которые нужны чтобы отслеживать всякие события, такие как нажатия клавиш, перемещение мыши, клики всякие, перемещения окна и тому подобное\n",
    "<span style=\"margin-left:40px;\">Далее в некоторых примерах покажу как и что применяется"
   ]
  },
  {
   "cell_type": "markdown",
   "metadata": {},
   "source": [
    "---"
   ]
  },
  {
   "cell_type": "markdown",
   "metadata": {},
   "source": [
    "\n",
    "# **Часть 3. Примеры**"
   ]
  },
  {
   "cell_type": "markdown",
   "metadata": {},
   "source": [
    "<font color=#1E90FF>1. Первый пример, сделаем просто слайдер(ползунок, на котором можно выбрать цирфу одну) чисел, инпут строки для текста и кнопку, которая будет выводить их значения:</font>"
   ]
  },
  {
   "cell_type": "markdown",
   "metadata": {},
   "source": [
    "У вас, как у меня, скорее всего возник вопрос, а зачем нам обращаться в последствии к элементам, но смысл в том, что из элементов можно доставать много чего, допустим, есть у вас в интерфейсе строка для ввода, туда ввели что-то, оттуда это можно достать для вывода, рассмотрим прям этот пример :"
   ]
  },
  {
   "cell_type": "code",
   "execution_count": 4,
   "metadata": {},
   "outputs": [],
   "source": [
    "dpg.create_context()\n",
    "\n",
    "# покажу как юзать handlers, можно закрыть программу с помощью клавиши\n",
    "\n",
    "def close_app_callback(tag, info):\n",
    "    if info == dpg.mvKey_Escape:  # проверка какая кнопка была нажата\n",
    "        dpg.stop_dearpygui()  # остановка программы\n",
    "\n",
    "with dpg.handler_registry(): # создаются обработчики событий нажания клавишь\n",
    "    dpg.add_key_press_handler(callback=close_app_callback) # add_key_press_handler будет отслеживать нажатие лююбой клавиши, но в callback отслеживается именно нажатие ESC\n",
    "\n",
    "    # теперь можно закрывать окна с помощью ESC\n",
    "\n",
    "id_slider = \"id_slider\" # уникальный tag элемента , выставим сами, чтобы потом использовать\n",
    "id_text = \"id_text\"\n",
    "\n",
    "def f():\n",
    "    value = dpg.get_value(id_slider)\n",
    "    text = dpg.get_value(id_text)\n",
    "    print(f\"just a button pressed with slider \\nvalue = {value} \\ntext = '''{text}'''\")\n",
    "\n",
    "\n",
    "with dpg.window(label='Some buttons',pos=[100,300],width=600,height=200,modal=False, no_background=False,no_close=True,no_move=False,no_title_bar=False,autosize=False,show=True):#создаем окно, в котором будет контент\n",
    "    dpg.add_button(label='Just a button', callback=f) # добавить кнопку очевидно с надписью label и функцией при нажатии callback\n",
    "    dpg.add_slider_int(tag=id_slider, min_value=-10,max_value=10,label=\"just a slider on number\") # ползунок интов от -10 до 10 и названием  label, его tag=id\n",
    "    dpg.add_input_text(tag=id_text,label=\"enter text\",multiline=True,default_value=\"blya skol'ko nado napisat' neponyatno\") # вводная строка для текста, с tag=id_text, заголовком label и будет много строк для ввода, как окошко, а не строка\n",
    "\n",
    "\n",
    "dpg.create_viewport(title='Example 1', width=800, height=600, x_pos=200, y_pos=250, resizable=True, min_height=200,min_width=200,max_height=1000, max_width=1000)\n",
    "dpg.setup_dearpygui()\n",
    "dpg.show_viewport()\n",
    "dpg.start_dearpygui()\n",
    "dpg.destroy_context()"
   ]
  },
  {
   "cell_type": "markdown",
   "metadata": {},
   "source": [
    "<font color=#00CED1>***сноска**</font> \n",
    "1. чтобы писать русскими буквами, надо скачать файл и к нему через dpg подтянуться, не буду вас заставлять это делать просто будем писать на английском\n",
    "2. также, если не работает вывод в консоль по кнопке, то рестартните кернель в вс коде, в колабе надо сделать так чтобы вы как будто только зашли в проект, перезапустите страницу например, если там нельзя рестартнуть кернель"
   ]
  },
  {
   "cell_type": "markdown",
   "metadata": {},
   "source": [
    "Так, думаю очевидно, что можно добавлять много разных типов слайдеров туда, а именно  (перечислим подписи после add_slider_?) : float(double то же можно), intx(несколько ползунков), floatx( doublex по подобию)  \n",
    "Там много разных параметров, можно его увеличить, уменьшить, переместить слайдер, сделать вертикальным и другое, но мы не сможем все объемлеть здесь это, лучше больше упремся в использование базовых параметров. \n",
    "То же самое с add_input_?, можно делать float(double), floatx(doublex), int, intx и собственно text"
   ]
  },
  {
   "cell_type": "markdown",
   "metadata": {},
   "source": [
    "\n",
    "<font color=#1E90FF>2. Второй пример, нарисуем что-то с помощью draw:</font>"
   ]
  },
  {
   "cell_type": "code",
   "execution_count": 5,
   "metadata": {},
   "outputs": [],
   "source": [
    "dpg.create_context()\n",
    "\n",
    "def close_app_callback(tag, info):\n",
    "    if info == dpg.mvKey_Escape:\n",
    "        dpg.stop_dearpygui()\n",
    "\n",
    "with dpg.handler_registry():\n",
    "    dpg.add_key_press_handler(callback=close_app_callback)\n",
    "\n",
    "def update_color(tag, colors):\n",
    "    colors = [c * 255 for c in colors] # домножаем на 255, так как аргументы передаются в виде флотов от 0.0 до 1.0\n",
    "    dpg.configure_item(\"circle\", color=colors) # функция, которая принимает параметр tag, и то, что в этом параметре надо поменять, то есть аргумент элемента tag\n",
    "\n",
    "with dpg.window(label=\"Some drawings\"):\n",
    "\n",
    "    with dpg.drawlist(width=400,height=400): # добавляет лист  для рисования, параметры очевидный\n",
    "            #цвет определеяется кодировкой RGBA, то есть 4 параметра, rgb очев что такое, A - альфа, отвечает за прозрачность цвета\n",
    "\n",
    "        dpg.draw_circle(center=[200, 200], radius=50, color=[255, 0, 0, 255], tag=\"circle\") # рисуем окружность по координатам центра и радиуса,\n",
    "                                                                                                            #параметры явно понятны и однозначно определяют окружнсоть\n",
    "\n",
    "        dpg.draw_line(p1=[0, 0], p2=[400, 400], color=[0, 255, 0, 255]) # опять же, рисуем прямую по двум точкам\n",
    "\n",
    "        dpg.draw_rectangle(pmin=[50, 50], pmax=[150, 150], color=[0, 0, 255, 255]) # и снова, прямоугольник по левой нижней точке и правой верхней\n",
    "\n",
    "        dpg.draw_triangle(p1=[200, 300], p2=[250, 350], p3=[150, 350], color=[255, 255, 0, 255]) # треугольник по 3 точкам\n",
    "\n",
    "\n",
    "\n",
    "    dpg.add_color_picker(tag=\"circle_color\", default_value=[255, 0, 0, 255], callback=update_color,height=200,width=200)\n",
    "        # создаем панель цветов, указывая tag, начальное значение, высоту ширину и callback, но тут вопрос, как он работает\n",
    "        # при нажатии на любой цвет в callback add_color_picker отправляет tag элемента, который вызвал callback, то есть\n",
    "        # собственно сам color_picker, далее передается то, что возвращает элемент по этому tag, а после user_data, если\n",
    "        # что-то было передано пользователем в этом аргументе\n",
    "\n",
    "\n",
    "dpg.create_viewport(title=\"Example 2\")\n",
    "dpg.setup_dearpygui()\n",
    "dpg.show_viewport()\n",
    "dpg.start_dearpygui()\n",
    "dpg.destroy_context()\n"
   ]
  },
  {
   "cell_type": "markdown",
   "metadata": {},
   "source": [
    "Пока мы научились изменять цвет только 1 фигуры, мы явно не хотим делать 3 color_picker'a для 3 фигур, далее мы ознакомимся с большем количеством кнопочек, которые нам помогут сделать это с 1 color_picker"
   ]
  },
  {
   "cell_type": "markdown",
   "metadata": {},
   "source": [
    "\n",
    "<font color=#1E90FF>3. Третий пример, покажем применение других контейнеров:</font>"
   ]
  },
  {
   "cell_type": "code",
   "execution_count": 6,
   "metadata": {},
   "outputs": [],
   "source": [
    "dpg.create_context()\n",
    "\n",
    "def close_app_callback(tag, info):\n",
    "    if info == dpg.mvKey_Escape:\n",
    "        dpg.stop_dearpygui()\n",
    "\n",
    "with dpg.handler_registry():\n",
    "    dpg.add_key_press_handler(callback=close_app_callback)\n",
    "\n",
    "slider_tag = 0\n",
    "input_tag = 0\n",
    "\n",
    "def f(tag, info):\n",
    "    print(f\"{tag} was pressed!\")\n",
    "\n",
    "def func(tag, info):\n",
    "    print(f\"child2_button was pressed!\\nslider value = {dpg.get_value(slider_tag)} \\ninput : {dpg.get_value(input_tag)}\")\n",
    "\n",
    "\n",
    "with dpg.window(label=\"Main Window\", width=400): # создаем главное окно\n",
    "\n",
    "    with dpg.group(horizontal=True): # создаем групппу для сортировки входящего в нее по горизонтали\n",
    "        dpg.add_button(label=\"first_button\",tag=\"first_button\", callback=f)\n",
    "        dpg.add_button(label=\"second_button\",tag=\"second_button\", callback=f)\n",
    "        dpg.add_button(label=\"third_button\",tag=\"third_button\",callback=f)\n",
    "\n",
    "    with dpg.group(horizontal=False): # ну и бахнем по вертикали\n",
    "        with dpg.child_window(width=300, height=200): # открываем подокно в окне\n",
    "\n",
    "            dpg.add_text(\"Now we are in child window 1\")\n",
    "            dpg.add_button(label=\"child_button1\",tag=\"child_button1\", callback=f)\n",
    "            dpg.add_button(label=\"child_button2\",tag=\"child_button2\", callback=f)\n",
    "            dpg.add_checkbox(tag=\"just a clicker\",label=\"just a clicker\", callback=f) # квадратик с галочкой буквально\n",
    "\n",
    "\n",
    "        with dpg.child_window(width=300, height=200): # открываем второе подокно в окне\n",
    "\n",
    "            dpg.add_text(\"Now we are in child window 2\")\n",
    "            slider_tag = dpg.add_slider_double(label=\"slider\", min_value=-10, max_value=10)\n",
    "            input_tag = dpg.add_input_text(label=\"input\")\n",
    "            dpg.add_button(label=\"print all from chw2 !\", tag=\"child2_button\", callback=func, width=175, height=30)\n",
    "\n",
    "        dpg.add_combo(label=\"<-chto is etogo\\nzalupa\", items=[\"acos\", \"terver\", \"matan\"]) # выбор 1 из нескольких, просто запустите посмотрите\n",
    "\n",
    "\n",
    "dpg.create_viewport(title=\"Example 3\")\n",
    "dpg.setup_dearpygui()\n",
    "dpg.show_viewport()\n",
    "dpg.start_dearpygui()\n",
    "dpg.destroy_context()\n"
   ]
  },
  {
   "cell_type": "markdown",
   "metadata": {},
   "source": [
    "\n",
    "# **Часть 4. Примеры+**"
   ]
  },
  {
   "cell_type": "markdown",
   "metadata": {},
   "source": [
    "<font color=#00CED1>**Здесь апгреднем некоторые примеры из первой части и напишем новые:**</font>"
   ]
  },
  {
   "cell_type": "markdown",
   "metadata": {},
   "source": [
    "\n",
    "<font color=#1E90FF>1. Допишем второй пример так, чтобы можно было выбирать, какую фигуру мы меняем:</font>"
   ]
  },
  {
   "cell_type": "code",
   "execution_count": 7,
   "metadata": {},
   "outputs": [],
   "source": [
    "dpg.create_context()\n",
    "\n",
    "def close_app_callback(tag, info):\n",
    "    if info == dpg.mvKey_Escape:\n",
    "        dpg.stop_dearpygui()\n",
    "\n",
    "with dpg.handler_registry():\n",
    "    dpg.add_key_press_handler(callback=close_app_callback)\n",
    "\n",
    "def update_color(tag, colors, user_data):\n",
    "    rgba_color = [int(c * 255) for c in colors]\n",
    "    dpg.configure_item(dpg.get_item_user_data(\"color_picker\"), color=rgba_color)\n",
    "\n",
    "def update_selected_item(tag, info, user_data):\n",
    "    dpg.set_item_user_data(\"color_picker\", info) # в info передалось название выбранного элемента, по совместительству tag элемента,\n",
    "                                                    # а tag все также храниться tag вызвавшего callback, то есть add_radio_button\n",
    "                                                    # функцией мы как раз устанавливаем в user_data элемента c тегом \"color_picker\"\n",
    "                                                    # info, то есть tag элемента, который надо менять, далее собственно\n",
    "                                                    # вызывается color_picker, его callback есть функция update_color, у которого в user_data\n",
    "                                                    # лежит тег элемента, который надо менять и функцией get_item_user_data мы забираем из нужного элемента наш изначальный info\n",
    "    print(f\"selected item: {info}\")\n",
    "\n",
    "with dpg.window():\n",
    "\n",
    "    with dpg.drawlist(width=400, height=400):\n",
    "        dpg.draw_circle(center=[200, 200], radius=50, color=[255, 0, 0, 255], thickness=2, tag=\"circle\")\n",
    "        dpg.draw_line(p1=[0, 0], p2=[400, 400], color=[0, 255, 0, 255], thickness=2, tag=\"line\")\n",
    "        dpg.draw_rectangle(pmin=[50, 50], pmax=[150, 150], color=[0, 0, 255, 255], thickness=2, tag=\"rect\")\n",
    "        dpg.draw_triangle(p1=[200, 300], p2=[250, 350], p3=[150, 350], color=[255, 255, 0, 255], thickness=2, tag=\"triangle\")\n",
    "\n",
    "    dpg.add_radio_button(items=[\"circle\", \"line\", \"rect\", \"triangle\"], default_value=\"circle\", callback=update_selected_item) # выбор из кнопок \"circle\", \"line\", \"rect\", \"triangle\",\n",
    "                                                                                                                                # где изначально выбор на \"circle\" и при нажатии на любую кнопку выполняется callback\n",
    "\n",
    "    dpg.add_color_picker(tag=\"color_picker\", default_value=[255, 0, 0, 255], callback=update_color, height=200, width=200, user_data=\"circle\")\n",
    "\n",
    "dpg.create_viewport(title=\"Example+ 1\")\n",
    "dpg.setup_dearpygui()\n",
    "dpg.show_viewport(maximized=True)\n",
    "dpg.start_dearpygui()\n",
    "dpg.destroy_context()\n"
   ]
  },
  {
   "cell_type": "markdown",
   "metadata": {},
   "source": [
    "Теперь можно менять цвета всех фигур с помощью 1 color_picker'a"
   ]
  },
  {
   "cell_type": "markdown",
   "metadata": {},
   "source": [
    "<font color=#1E90FF>2. Допишем 3 пример, добавим туда загрузку, которая будет обновляться раз в 5 секунд, вроде немного, но это не так просто сделать:</font>"
   ]
  },
  {
   "cell_type": "code",
   "execution_count": 8,
   "metadata": {},
   "outputs": [],
   "source": [
    "import dearpygui.dearpygui as dpg\n",
    "\n",
    "dpg.create_context()\n",
    "\n",
    "def close_app_callback(tag, info):\n",
    "    if info == dpg.mvKey_Escape:\n",
    "        dpg.stop_dearpygui()\n",
    "\n",
    "with dpg.handler_registry():\n",
    "    dpg.add_key_press_handler(callback=close_app_callback)\n",
    "\n",
    "slider_tag = 0\n",
    "input_tag = 0\n",
    "\n",
    "def f(tag):\n",
    "    print(f\"{tag} was pressed!\")\n",
    "\n",
    "def func():\n",
    "    print(f\"child2_button was pressed!\\nslider value = {dpg.get_value(slider_tag)} \\ninput : {dpg.get_value(input_tag)}\")\n",
    "\n",
    "def func2():\n",
    "    current_value = dpg.get_value('load')\n",
    "    if current_value < 1:\n",
    "        new_value = min(current_value + 0.1, 1)\n",
    "        dpg.set_value('load', new_value)\n",
    "        if new_value == 1:\n",
    "            dpg.set_value('string', \"completed!\")\n",
    "        else:\n",
    "            dpg.set_frame_callback(dpg.get_frame_count() + 300, func2)\n",
    "\n",
    "def restart_loading():\n",
    "    dpg.set_value('load', 0)\n",
    "    if dpg.get_value('string') == \"completed!\":\n",
    "        dpg.set_value('string', \"loading...\")\n",
    "        func2()\n",
    "\n",
    "with dpg.window(label=\"Containers\", width=800):\n",
    "    with dpg.group(horizontal=True):\n",
    "        dpg.add_progress_bar(tag='load', default_value=0.0)\n",
    "        dpg.add_text(tag='string', default_value=\"loading...\")\n",
    "        dpg.add_button(label=\"restart loading\", callback=restart_loading)\n",
    "\n",
    "    with dpg.group(horizontal=True):\n",
    "        dpg.add_button(label=\"first_button\", tag=\"first_button\", callback=f)\n",
    "        dpg.add_button(label=\"second_button\", tag=\"second_button\", callback=f)\n",
    "        dpg.add_button(label=\"third_button\", tag=\"third_button\", callback=f)\n",
    "\n",
    "    with dpg.group(horizontal=False):\n",
    "        with dpg.child_window(width=300, height=200):\n",
    "            dpg.add_text(\"Now we are in child window 1\")\n",
    "            dpg.add_button(label=\"child_button1\", tag=\"child_button1\", callback=f)\n",
    "            dpg.add_button(label=\"child_button2\", tag=\"child_button2\", callback=f)\n",
    "            dpg.add_checkbox(tag=\"Just a clicker\", label=\"Just a clicker\", callback=f)\n",
    "\n",
    "        with dpg.child_window(width=300, height=200):\n",
    "            dpg.add_text(\"Now we are in child window 2\")\n",
    "            slider_tag = dpg.add_slider_double(label=\"slider\", min_value=-10, max_value=10)\n",
    "            input_tag = dpg.add_input_text(label=\"input\")\n",
    "            dpg.add_button(label=\"print all from chw2!\", tag=\"child2_button\", callback=func, width=175, height=30)\n",
    "\n",
    "        dpg.add_combo(label=\"<-chto is etogo\\nzalupa\", items=[\"acos\", \"terver\", \"matan\"])\n",
    "\n",
    "\n",
    "\n",
    "dpg.create_viewport(title=\"Example+ 2\")\n",
    "dpg.setup_dearpygui()\n",
    "dpg.show_viewport()\n",
    "\n",
    "# Initial call to func2 after 300 frames\n",
    "dpg.set_frame_callback(dpg.get_frame_count() + 300, func2)\n",
    "\n",
    "dpg.start_dearpygui()\n",
    "\n",
    "dpg.destroy_context()\n"
   ]
  },
  {
   "cell_type": "markdown",
   "metadata": {},
   "source": [
    "<font color=#1E90FF>3. Напоследок чуток поиграемся с handler:</font>"
   ]
  },
  {
   "cell_type": "code",
   "execution_count": 9,
   "metadata": {},
   "outputs": [],
   "source": [
    "dpg.create_context()\n",
    "\n",
    "def close_app_callback(tag, info):\n",
    "    if info == dpg.mvKey_Escape:\n",
    "        dpg.stop_dearpygui()\n",
    "\n",
    "with dpg.handler_registry():\n",
    "    dpg.add_key_press_handler(callback=close_app_callback)\n",
    "\n",
    "key_press_times = {}\n",
    "\n",
    "\n",
    "def mouse_position_handler():\n",
    "    mouse_pos = dpg.get_mouse_pos()  # функция для получения координаты мыши\n",
    "    dpg.set_value(\"mouse_coords\", f\"mouse coords: x = {mouse_pos[0]} | y = {mouse_pos[1]}\")\n",
    "\n",
    "    # просто рандомная функция преобразования координат в цвет\n",
    "    red = int((mouse_pos[0] / 800) * 255)\n",
    "    green = int((mouse_pos[1] / 600) * 255)\n",
    "    blue = 255 - red\n",
    "    dpg.configure_item(\"window_color\", color=(red, green, blue, 255))\n",
    "\n",
    "\n",
    "def mouse_click_handler():\n",
    "    mouse_pos = dpg.get_mouse_pos()  # функция для получения координаты мыши\n",
    "    dpg.set_value(\"mouse_clicks\", f\"mouse clicked at x = {mouse_pos[0]} | y = {mouse_pos[1]}\")\n",
    "\n",
    "\n",
    "def keyboard_press_handler(tag, pressed_key):\n",
    "\n",
    "    current_time = time.time()\n",
    "\n",
    "    if pressed_key not in key_press_times:\n",
    "        key_press_times[pressed_key] = current_time  # по каждому ключу клавиши записываем время зажима\n",
    "\n",
    "    time_held = round(current_time - key_press_times[pressed_key], 4)  # время удержания\n",
    "    dpg.set_value(\"key_pressed\", f\"pressed key : {pressed_key} | hold time: {time_held}s\")\n",
    "\n",
    "\n",
    "with dpg.handler_registry():\n",
    "    dpg.add_mouse_move_handler(callback=mouse_position_handler)  # handler для перемещений мыши\n",
    "    dpg.add_mouse_click_handler(callback=mouse_click_handler)  # handler для кликов мыши\n",
    "    dpg.add_key_press_handler(callback=keyboard_press_handler)  # handler для кликов клавы\n",
    "\n",
    "\n",
    "with dpg.window(label=\"Interactive Tracker\", width=800, height=600, no_resize=True, no_move=True):\n",
    "    dpg.add_text(tag=\"mouse_coords\", default_value=\"Mouse Position: X=0 Y=0\")  # Текст для отображения координат мыши\n",
    "    dpg.add_text(tag=\"mouse_clicks\", default_value=\"Mouse Clicks: None\")  # Текст для отображения кликов мыши\n",
    "    dpg.add_text(tag=\"key_pressed\", default_value=\"Key Pressed: None\")  # Текст для отображения нажатых клавиш\n",
    "    dpg.add_text(tag=\"window_color\", default_value=\"Window Color will change based on mouse position!\")  # Дополнительный текст для окна\n",
    "\n",
    "# Настройка viewport (не на весь экран, например 800x600)\n",
    "dpg.create_viewport(title=\"Example+ 3\", width=800, height=600, resizable=True)  # Устанавливаем размер viewport\n",
    "dpg.setup_dearpygui()\n",
    "dpg.show_viewport()\n",
    "\n",
    "dpg.start_dearpygui()\n",
    "\n",
    "dpg.destroy_context()\n"
   ]
  },
  {
   "cell_type": "markdown",
   "metadata": {},
   "source": [
    "<font color=#00CED1>**Также насыплю чуток примеров готовых проектов, которые возможно сделать с вышеописанными функциями:**</font>"
   ]
  },
  {
   "cell_type": "markdown",
   "metadata": {},
   "source": [
    "1. **<font color=\"#50C878\">Змейка</font>** - https://github.com/RahulShagri/OG-Snake-Game\n",
    "\n",
    "2. **<font color=\"#50C878\">Тетрис</font>** - https://github.com/RahulShagri/OG-Tetris-Game\n",
    "\n",
    "3. **Что-то посложнее: <font color=\"#50C878\">динамическая визуализация спектра частот сигналов</font>** - https://github.com/Tschucker/Python-Digital-Phosphor-Display\n"
   ]
  },
  {
   "cell_type": "markdown",
   "metadata": {},
   "source": [
    "\n",
    "# **Часть 5. Итог**"
   ]
  },
  {
   "cell_type": "markdown",
   "metadata": {},
   "source": [
    "DPG - интересная библиотека для изучения и постройки каких-то проектов самостоятельно, очень много функционала различного, в общем для изучения полезно, каждый же хочет в начале обучения языку потыкать что-то сделать, так вот это мне бы принесло много удовольствия в начале обучения, да и сейчас тоже, в общем круто  \n",
    "Конечно, библа просто огромная и объемлеть ее вот так сразу нереально просто, как и все библиотеки, судя по рассказам ребят, но думаю полчилось достаточно содержательно"
   ]
  }
 ],
 "metadata": {
  "kernelspec": {
   "display_name": "Python 3",
   "language": "python",
   "name": "python3"
  },
  "language_info": {
   "codemirror_mode": {
    "name": "ipython",
    "version": 3
   },
   "file_extension": ".py",
   "mimetype": "text/x-python",
   "name": "python",
   "nbconvert_exporter": "python",
   "pygments_lexer": "ipython3",
   "version": "3.11.0rc1"
  }
 },
 "nbformat": 4,
 "nbformat_minor": 2
}
